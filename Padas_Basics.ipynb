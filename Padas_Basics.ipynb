{
 "cells": [
  {
   "cell_type": "markdown",
   "metadata": {},
   "source": [
    "<img align=\"center\" width=\"500\" height=\"500\" src=\"https://cdn.analyticsvidhya.com/wp-content/uploads/2020/07/panda-tips.jpg\">"
   ]
  },
  {
   "cell_type": "code",
   "execution_count": 2,
   "metadata": {},
   "outputs": [
    {
     "data": {
      "text/plain": [
       "'1.1.5'"
      ]
     },
     "execution_count": 2,
     "metadata": {},
     "output_type": "execute_result"
    }
   ],
   "source": [
    "import pandas as pd\n",
    "pd.__version__"
   ]
  },
  {
   "cell_type": "code",
   "execution_count": 5,
   "metadata": {},
   "outputs": [
    {
     "data": {
      "text/plain": [
       "0    1\n",
       "1    2\n",
       "2    3\n",
       "3    4\n",
       "4    5\n",
       "dtype: int64"
      ]
     },
     "execution_count": 5,
     "metadata": {},
     "output_type": "execute_result"
    }
   ],
   "source": [
    "data=pd.Series([1,2,3,4,5])\n",
    "data"
   ]
  },
  {
   "cell_type": "markdown",
   "metadata": {},
   "source": [
    "Ở đây hệ thống sẽ tự tạo index cho ta từ 0 trở lên."
   ]
  },
  {
   "cell_type": "markdown",
   "metadata": {},
   "source": [
    "Xem kiểu của dữ liệu"
   ]
  },
  {
   "cell_type": "code",
   "execution_count": 4,
   "metadata": {},
   "outputs": [
    {
     "data": {
      "text/plain": [
       "pandas.core.series.Series"
      ]
     },
     "execution_count": 4,
     "metadata": {},
     "output_type": "execute_result"
    }
   ],
   "source": [
    "type(data)"
   ]
  },
  {
   "cell_type": "markdown",
   "metadata": {},
   "source": [
    "Ở đây dữ liệu thuộc kiểu series"
   ]
  },
  {
   "cell_type": "code",
   "execution_count": 6,
   "metadata": {},
   "outputs": [
    {
     "data": {
      "text/plain": [
       "array([1, 2, 3, 4, 5], dtype=int64)"
      ]
     },
     "execution_count": 6,
     "metadata": {},
     "output_type": "execute_result"
    }
   ],
   "source": [
    "data.values"
   ]
  },
  {
   "cell_type": "markdown",
   "metadata": {},
   "source": [
    "Lấy index và subset của dữ liệu "
   ]
  },
  {
   "cell_type": "code",
   "execution_count": 7,
   "metadata": {},
   "outputs": [
    {
     "data": {
      "text/plain": [
       "RangeIndex(start=0, stop=5, step=1)"
      ]
     },
     "execution_count": 7,
     "metadata": {},
     "output_type": "execute_result"
    }
   ],
   "source": [
    "data.index"
   ]
  },
  {
   "cell_type": "code",
   "execution_count": 8,
   "metadata": {},
   "outputs": [
    {
     "data": {
      "text/plain": [
       "2"
      ]
     },
     "execution_count": 8,
     "metadata": {},
     "output_type": "execute_result"
    }
   ],
   "source": [
    "data[1]"
   ]
  },
  {
   "cell_type": "code",
   "execution_count": 9,
   "metadata": {},
   "outputs": [
    {
     "data": {
      "text/plain": [
       "0    1\n",
       "1    2\n",
       "2    3\n",
       "dtype: int64"
      ]
     },
     "execution_count": 9,
     "metadata": {},
     "output_type": "execute_result"
    }
   ],
   "source": [
    "data[0:3]"
   ]
  },
  {
   "cell_type": "markdown",
   "metadata": {},
   "source": [
    "Tự tạo index"
   ]
  },
  {
   "cell_type": "code",
   "execution_count": 13,
   "metadata": {},
   "outputs": [
    {
     "data": {
      "text/plain": [
       "a    1\n",
       "b    2\n",
       "c    3\n",
       "d    4\n",
       "e    5\n",
       "dtype: int64"
      ]
     },
     "execution_count": 13,
     "metadata": {},
     "output_type": "execute_result"
    }
   ],
   "source": [
    "data=pd.Series([1,2,3,4,5],index=['a','b','c','d','e'])\n",
    "data"
   ]
  },
  {
   "cell_type": "code",
   "execution_count": 14,
   "metadata": {},
   "outputs": [
    {
     "data": {
      "text/plain": [
       "3"
      ]
     },
     "execution_count": 14,
     "metadata": {},
     "output_type": "execute_result"
    }
   ],
   "source": [
    "data['c']"
   ]
  },
  {
   "cell_type": "code",
   "execution_count": 17,
   "metadata": {},
   "outputs": [
    {
     "data": {
      "text/plain": [
       "Audi      1994\n",
       "Tesla     2010\n",
       "Toyota    2012\n",
       "dtype: int64"
      ]
     },
     "execution_count": 17,
     "metadata": {},
     "output_type": "execute_result"
    }
   ],
   "source": [
    "car_dict={\"Audi\":1994,\"Tesla\":2010,\"Toyota\":2012}\n",
    "car=pd.Series(car_dict)\n",
    "car"
   ]
  },
  {
   "cell_type": "markdown",
   "metadata": {},
   "source": [
    "Các key của dict khi bỏ vào dữ liệu series sẽ đóng vai trò là index"
   ]
  },
  {
   "cell_type": "code",
   "execution_count": 19,
   "metadata": {},
   "outputs": [
    {
     "data": {
      "text/plain": [
       "1994"
      ]
     },
     "execution_count": 19,
     "metadata": {},
     "output_type": "execute_result"
    }
   ],
   "source": [
    "car['Audi']"
   ]
  },
  {
   "cell_type": "code",
   "execution_count": 21,
   "metadata": {},
   "outputs": [
    {
     "data": {
      "text/plain": [
       "Audi     1994\n",
       "Tesla    2010\n",
       "dtype: int64"
      ]
     },
     "execution_count": 21,
     "metadata": {},
     "output_type": "execute_result"
    }
   ],
   "source": [
    "car['Audi':'Tesla']"
   ]
  },
  {
   "cell_type": "code",
   "execution_count": 23,
   "metadata": {},
   "outputs": [
    {
     "data": {
      "text/html": [
       "<div>\n",
       "<style scoped>\n",
       "    .dataframe tbody tr th:only-of-type {\n",
       "        vertical-align: middle;\n",
       "    }\n",
       "\n",
       "    .dataframe tbody tr th {\n",
       "        vertical-align: top;\n",
       "    }\n",
       "\n",
       "    .dataframe thead th {\n",
       "        text-align: right;\n",
       "    }\n",
       "</style>\n",
       "<table border=\"1\" class=\"dataframe\">\n",
       "  <thead>\n",
       "    <tr style=\"text-align: right;\">\n",
       "      <th></th>\n",
       "      <th>year</th>\n",
       "    </tr>\n",
       "  </thead>\n",
       "  <tbody>\n",
       "    <tr>\n",
       "      <th>Audi</th>\n",
       "      <td>1994</td>\n",
       "    </tr>\n",
       "    <tr>\n",
       "      <th>Tesla</th>\n",
       "      <td>2010</td>\n",
       "    </tr>\n",
       "    <tr>\n",
       "      <th>Toyota</th>\n",
       "      <td>2012</td>\n",
       "    </tr>\n",
       "  </tbody>\n",
       "</table>\n",
       "</div>"
      ],
      "text/plain": [
       "        year\n",
       "Audi    1994\n",
       "Tesla   2010\n",
       "Toyota  2012"
      ]
     },
     "execution_count": 23,
     "metadata": {},
     "output_type": "execute_result"
    }
   ],
   "source": [
    "df_car=pd.DataFrame({\"year\":car})\n",
    "df_car"
   ]
  },
  {
   "cell_type": "code",
   "execution_count": 24,
   "metadata": {},
   "outputs": [
    {
     "data": {
      "text/plain": [
       "Index(['Audi', 'Tesla', 'Toyota'], dtype='object')"
      ]
     },
     "execution_count": 24,
     "metadata": {},
     "output_type": "execute_result"
    }
   ],
   "source": [
    "df_car.index"
   ]
  },
  {
   "cell_type": "code",
   "execution_count": 25,
   "metadata": {},
   "outputs": [
    {
     "data": {
      "text/plain": [
       "Index(['year'], dtype='object')"
      ]
     },
     "execution_count": 25,
     "metadata": {},
     "output_type": "execute_result"
    }
   ],
   "source": [
    "df_car.columns"
   ]
  },
  {
   "cell_type": "code",
   "execution_count": 26,
   "metadata": {},
   "outputs": [
    {
     "data": {
      "text/plain": [
       "Audi      1994\n",
       "Tesla     2010\n",
       "Toyota    2012\n",
       "Name: year, dtype: int64"
      ]
     },
     "execution_count": 26,
     "metadata": {},
     "output_type": "execute_result"
    }
   ],
   "source": [
    "df_car['year']"
   ]
  },
  {
   "cell_type": "code",
   "execution_count": 28,
   "metadata": {
    "scrolled": true
   },
   "outputs": [
    {
     "data": {
      "text/html": [
       "<div>\n",
       "<style scoped>\n",
       "    .dataframe tbody tr th:only-of-type {\n",
       "        vertical-align: middle;\n",
       "    }\n",
       "\n",
       "    .dataframe tbody tr th {\n",
       "        vertical-align: top;\n",
       "    }\n",
       "\n",
       "    .dataframe thead th {\n",
       "        text-align: right;\n",
       "    }\n",
       "</style>\n",
       "<table border=\"1\" class=\"dataframe\">\n",
       "  <thead>\n",
       "    <tr style=\"text-align: right;\">\n",
       "      <th></th>\n",
       "      <th>year</th>\n",
       "    </tr>\n",
       "  </thead>\n",
       "  <tbody>\n",
       "    <tr>\n",
       "      <th>Audi</th>\n",
       "      <td>1994</td>\n",
       "    </tr>\n",
       "    <tr>\n",
       "      <th>Tesla</th>\n",
       "      <td>2010</td>\n",
       "    </tr>\n",
       "    <tr>\n",
       "      <th>Toyota</th>\n",
       "      <td>2012</td>\n",
       "    </tr>\n",
       "  </tbody>\n",
       "</table>\n",
       "</div>"
      ],
      "text/plain": [
       "        year\n",
       "Audi    1994\n",
       "Tesla   2010\n",
       "Toyota  2012"
      ]
     },
     "execution_count": 28,
     "metadata": {},
     "output_type": "execute_result"
    }
   ],
   "source": [
    "pd.DataFrame(df_car,columns=['year'])"
   ]
  },
  {
   "cell_type": "code",
   "execution_count": 31,
   "metadata": {},
   "outputs": [
    {
     "data": {
      "text/html": [
       "<div>\n",
       "<style scoped>\n",
       "    .dataframe tbody tr th:only-of-type {\n",
       "        vertical-align: middle;\n",
       "    }\n",
       "\n",
       "    .dataframe tbody tr th {\n",
       "        vertical-align: top;\n",
       "    }\n",
       "\n",
       "    .dataframe thead th {\n",
       "        text-align: right;\n",
       "    }\n",
       "</style>\n",
       "<table border=\"1\" class=\"dataframe\">\n",
       "  <thead>\n",
       "    <tr style=\"text-align: right;\">\n",
       "      <th></th>\n",
       "      <th>a</th>\n",
       "      <th>b</th>\n",
       "      <th>c</th>\n",
       "    </tr>\n",
       "  </thead>\n",
       "  <tbody>\n",
       "    <tr>\n",
       "      <th>0</th>\n",
       "      <td>1.0</td>\n",
       "      <td>2</td>\n",
       "      <td>NaN</td>\n",
       "    </tr>\n",
       "    <tr>\n",
       "      <th>1</th>\n",
       "      <td>NaN</td>\n",
       "      <td>3</td>\n",
       "      <td>4.0</td>\n",
       "    </tr>\n",
       "  </tbody>\n",
       "</table>\n",
       "</div>"
      ],
      "text/plain": [
       "     a  b    c\n",
       "0  1.0  2  NaN\n",
       "1  NaN  3  4.0"
      ]
     },
     "execution_count": 31,
     "metadata": {},
     "output_type": "execute_result"
    }
   ],
   "source": [
    "a_dict={'a':1,'b':2}\n",
    "b_dict={'b':3,'c':4}\n",
    "pd.DataFrame([a_dict,b_dict])"
   ]
  },
  {
   "cell_type": "code",
   "execution_count": 36,
   "metadata": {
    "scrolled": true
   },
   "outputs": [
    {
     "data": {
      "text/html": [
       "<div>\n",
       "<style scoped>\n",
       "    .dataframe tbody tr th:only-of-type {\n",
       "        vertical-align: middle;\n",
       "    }\n",
       "\n",
       "    .dataframe tbody tr th {\n",
       "        vertical-align: top;\n",
       "    }\n",
       "\n",
       "    .dataframe thead th {\n",
       "        text-align: right;\n",
       "    }\n",
       "</style>\n",
       "<table border=\"1\" class=\"dataframe\">\n",
       "  <thead>\n",
       "    <tr style=\"text-align: right;\">\n",
       "      <th></th>\n",
       "      <th>foo</th>\n",
       "      <th>bar</th>\n",
       "    </tr>\n",
       "  </thead>\n",
       "  <tbody>\n",
       "    <tr>\n",
       "      <th>a</th>\n",
       "      <td>0.622020</td>\n",
       "      <td>0.742077</td>\n",
       "    </tr>\n",
       "    <tr>\n",
       "      <th>b</th>\n",
       "      <td>0.065628</td>\n",
       "      <td>0.545538</td>\n",
       "    </tr>\n",
       "    <tr>\n",
       "      <th>c</th>\n",
       "      <td>0.462602</td>\n",
       "      <td>0.043660</td>\n",
       "    </tr>\n",
       "  </tbody>\n",
       "</table>\n",
       "</div>"
      ],
      "text/plain": [
       "        foo       bar\n",
       "a  0.622020  0.742077\n",
       "b  0.065628  0.545538\n",
       "c  0.462602  0.043660"
      ]
     },
     "execution_count": 36,
     "metadata": {},
     "output_type": "execute_result"
    }
   ],
   "source": [
    "import numpy as np\n",
    "data=pd.DataFrame(np.random.rand(3, 2),\n",
    "             columns=['foo', 'bar'],\n",
    "             index=['a', 'b', 'c'])\n",
    "data"
   ]
  },
  {
   "cell_type": "code",
   "execution_count": 40,
   "metadata": {},
   "outputs": [
    {
     "data": {
      "text/plain": [
       "False"
      ]
     },
     "execution_count": 40,
     "metadata": {},
     "output_type": "execute_result"
    }
   ],
   "source": [
    "'a' in data"
   ]
  },
  {
   "cell_type": "code",
   "execution_count": 42,
   "metadata": {},
   "outputs": [
    {
     "data": {
      "text/plain": [
       "Index(['foo', 'bar'], dtype='object')"
      ]
     },
     "execution_count": 42,
     "metadata": {},
     "output_type": "execute_result"
    }
   ],
   "source": [
    "data.keys()"
   ]
  },
  {
   "cell_type": "code",
   "execution_count": 44,
   "metadata": {
    "scrolled": true
   },
   "outputs": [
    {
     "data": {
      "text/plain": [
       "[('foo', a    0.622020\n",
       "  b    0.065628\n",
       "  c    0.462602\n",
       "  Name: foo, dtype: float64), ('bar', a    0.742077\n",
       "  b    0.545538\n",
       "  c    0.043660\n",
       "  Name: bar, dtype: float64)]"
      ]
     },
     "execution_count": 44,
     "metadata": {},
     "output_type": "execute_result"
    }
   ],
   "source": [
    "list(data.items())"
   ]
  },
  {
   "cell_type": "code",
   "execution_count": 47,
   "metadata": {
    "scrolled": false
   },
   "outputs": [
    {
     "data": {
      "text/html": [
       "<div>\n",
       "<style scoped>\n",
       "    .dataframe tbody tr th:only-of-type {\n",
       "        vertical-align: middle;\n",
       "    }\n",
       "\n",
       "    .dataframe tbody tr th {\n",
       "        vertical-align: top;\n",
       "    }\n",
       "\n",
       "    .dataframe thead th {\n",
       "        text-align: right;\n",
       "    }\n",
       "</style>\n",
       "<table border=\"1\" class=\"dataframe\">\n",
       "  <thead>\n",
       "    <tr style=\"text-align: right;\">\n",
       "      <th></th>\n",
       "      <th>foo</th>\n",
       "      <th>bar</th>\n",
       "      <th>d</th>\n",
       "    </tr>\n",
       "  </thead>\n",
       "  <tbody>\n",
       "    <tr>\n",
       "      <th>a</th>\n",
       "      <td>0.622020</td>\n",
       "      <td>0.742077</td>\n",
       "      <td>2</td>\n",
       "    </tr>\n",
       "    <tr>\n",
       "      <th>b</th>\n",
       "      <td>0.065628</td>\n",
       "      <td>0.545538</td>\n",
       "      <td>2</td>\n",
       "    </tr>\n",
       "    <tr>\n",
       "      <th>c</th>\n",
       "      <td>0.462602</td>\n",
       "      <td>0.043660</td>\n",
       "      <td>2</td>\n",
       "    </tr>\n",
       "  </tbody>\n",
       "</table>\n",
       "</div>"
      ],
      "text/plain": [
       "        foo       bar  d\n",
       "a  0.622020  0.742077  2\n",
       "b  0.065628  0.545538  2\n",
       "c  0.462602  0.043660  2"
      ]
     },
     "execution_count": 47,
     "metadata": {},
     "output_type": "execute_result"
    }
   ],
   "source": [
    "data['d']=2\n",
    "data"
   ]
  },
  {
   "cell_type": "code",
   "execution_count": 48,
   "metadata": {},
   "outputs": [
    {
     "data": {
      "text/html": [
       "<div>\n",
       "<style scoped>\n",
       "    .dataframe tbody tr th:only-of-type {\n",
       "        vertical-align: middle;\n",
       "    }\n",
       "\n",
       "    .dataframe tbody tr th {\n",
       "        vertical-align: top;\n",
       "    }\n",
       "\n",
       "    .dataframe thead th {\n",
       "        text-align: right;\n",
       "    }\n",
       "</style>\n",
       "<table border=\"1\" class=\"dataframe\">\n",
       "  <thead>\n",
       "    <tr style=\"text-align: right;\">\n",
       "      <th></th>\n",
       "      <th>foo</th>\n",
       "      <th>bar</th>\n",
       "      <th>d</th>\n",
       "    </tr>\n",
       "  </thead>\n",
       "  <tbody>\n",
       "    <tr>\n",
       "      <th>a</th>\n",
       "      <td>0.622020</td>\n",
       "      <td>0.742077</td>\n",
       "      <td>2</td>\n",
       "    </tr>\n",
       "    <tr>\n",
       "      <th>b</th>\n",
       "      <td>0.065628</td>\n",
       "      <td>0.545538</td>\n",
       "      <td>2</td>\n",
       "    </tr>\n",
       "  </tbody>\n",
       "</table>\n",
       "</div>"
      ],
      "text/plain": [
       "        foo       bar  d\n",
       "a  0.622020  0.742077  2\n",
       "b  0.065628  0.545538  2"
      ]
     },
     "execution_count": 48,
     "metadata": {},
     "output_type": "execute_result"
    }
   ],
   "source": [
    "data['a':'b']"
   ]
  },
  {
   "cell_type": "code",
   "execution_count": 51,
   "metadata": {
    "scrolled": true
   },
   "outputs": [
    {
     "data": {
      "text/html": [
       "<div>\n",
       "<style scoped>\n",
       "    .dataframe tbody tr th:only-of-type {\n",
       "        vertical-align: middle;\n",
       "    }\n",
       "\n",
       "    .dataframe tbody tr th {\n",
       "        vertical-align: top;\n",
       "    }\n",
       "\n",
       "    .dataframe thead th {\n",
       "        text-align: right;\n",
       "    }\n",
       "</style>\n",
       "<table border=\"1\" class=\"dataframe\">\n",
       "  <thead>\n",
       "    <tr style=\"text-align: right;\">\n",
       "      <th></th>\n",
       "      <th>foo</th>\n",
       "      <th>bar</th>\n",
       "      <th>d</th>\n",
       "    </tr>\n",
       "  </thead>\n",
       "  <tbody>\n",
       "    <tr>\n",
       "      <th>a</th>\n",
       "      <td>0.622020</td>\n",
       "      <td>0.742077</td>\n",
       "      <td>2</td>\n",
       "    </tr>\n",
       "    <tr>\n",
       "      <th>b</th>\n",
       "      <td>0.065628</td>\n",
       "      <td>0.545538</td>\n",
       "      <td>2</td>\n",
       "    </tr>\n",
       "  </tbody>\n",
       "</table>\n",
       "</div>"
      ],
      "text/plain": [
       "        foo       bar  d\n",
       "a  0.622020  0.742077  2\n",
       "b  0.065628  0.545538  2"
      ]
     },
     "execution_count": 51,
     "metadata": {},
     "output_type": "execute_result"
    }
   ],
   "source": [
    "data[0:2]"
   ]
  },
  {
   "cell_type": "code",
   "execution_count": 58,
   "metadata": {},
   "outputs": [
    {
     "data": {
      "text/html": [
       "<div>\n",
       "<style scoped>\n",
       "    .dataframe tbody tr th:only-of-type {\n",
       "        vertical-align: middle;\n",
       "    }\n",
       "\n",
       "    .dataframe tbody tr th {\n",
       "        vertical-align: top;\n",
       "    }\n",
       "\n",
       "    .dataframe thead th {\n",
       "        text-align: right;\n",
       "    }\n",
       "</style>\n",
       "<table border=\"1\" class=\"dataframe\">\n",
       "  <thead>\n",
       "    <tr style=\"text-align: right;\">\n",
       "      <th></th>\n",
       "      <th>foo</th>\n",
       "      <th>bar</th>\n",
       "      <th>d</th>\n",
       "    </tr>\n",
       "  </thead>\n",
       "  <tbody>\n",
       "    <tr>\n",
       "      <th>b</th>\n",
       "      <td>0.065628</td>\n",
       "      <td>0.545538</td>\n",
       "      <td>2</td>\n",
       "    </tr>\n",
       "    <tr>\n",
       "      <th>c</th>\n",
       "      <td>0.462602</td>\n",
       "      <td>0.043660</td>\n",
       "      <td>2</td>\n",
       "    </tr>\n",
       "  </tbody>\n",
       "</table>\n",
       "</div>"
      ],
      "text/plain": [
       "        foo       bar  d\n",
       "b  0.065628  0.545538  2\n",
       "c  0.462602  0.043660  2"
      ]
     },
     "execution_count": 58,
     "metadata": {},
     "output_type": "execute_result"
    }
   ],
   "source": [
    "data.iloc[1:3]"
   ]
  },
  {
   "cell_type": "code",
   "execution_count": 59,
   "metadata": {},
   "outputs": [
    {
     "data": {
      "text/plain": [
       "a    0.622020\n",
       "b    0.065628\n",
       "c    0.462602\n",
       "Name: foo, dtype: float64"
      ]
     },
     "execution_count": 59,
     "metadata": {},
     "output_type": "execute_result"
    }
   ],
   "source": [
    "data.foo"
   ]
  },
  {
   "cell_type": "code",
   "execution_count": 61,
   "metadata": {},
   "outputs": [
    {
     "data": {
      "text/html": [
       "<div>\n",
       "<style scoped>\n",
       "    .dataframe tbody tr th:only-of-type {\n",
       "        vertical-align: middle;\n",
       "    }\n",
       "\n",
       "    .dataframe tbody tr th {\n",
       "        vertical-align: top;\n",
       "    }\n",
       "\n",
       "    .dataframe thead th {\n",
       "        text-align: right;\n",
       "    }\n",
       "</style>\n",
       "<table border=\"1\" class=\"dataframe\">\n",
       "  <thead>\n",
       "    <tr style=\"text-align: right;\">\n",
       "      <th></th>\n",
       "      <th>foo</th>\n",
       "      <th>bar</th>\n",
       "      <th>d</th>\n",
       "      <th>foo/bar</th>\n",
       "    </tr>\n",
       "  </thead>\n",
       "  <tbody>\n",
       "    <tr>\n",
       "      <th>a</th>\n",
       "      <td>0.622020</td>\n",
       "      <td>0.742077</td>\n",
       "      <td>2</td>\n",
       "      <td>0.838215</td>\n",
       "    </tr>\n",
       "    <tr>\n",
       "      <th>b</th>\n",
       "      <td>0.065628</td>\n",
       "      <td>0.545538</td>\n",
       "      <td>2</td>\n",
       "      <td>0.120299</td>\n",
       "    </tr>\n",
       "    <tr>\n",
       "      <th>c</th>\n",
       "      <td>0.462602</td>\n",
       "      <td>0.043660</td>\n",
       "      <td>2</td>\n",
       "      <td>10.595660</td>\n",
       "    </tr>\n",
       "  </tbody>\n",
       "</table>\n",
       "</div>"
      ],
      "text/plain": [
       "        foo       bar  d    foo/bar\n",
       "a  0.622020  0.742077  2   0.838215\n",
       "b  0.065628  0.545538  2   0.120299\n",
       "c  0.462602  0.043660  2  10.595660"
      ]
     },
     "execution_count": 61,
     "metadata": {},
     "output_type": "execute_result"
    }
   ],
   "source": [
    "data['foo/bar']=data['foo']/data['bar']\n",
    "data"
   ]
  },
  {
   "cell_type": "code",
   "execution_count": 63,
   "metadata": {},
   "outputs": [
    {
     "data": {
      "text/plain": [
       "array([[ 0.62201983,  0.74207655,  2.        ,  0.83821517],\n",
       "       [ 0.06562781,  0.54553776,  2.        ,  0.1202993 ],\n",
       "       [ 0.46260206,  0.04365958,  2.        , 10.59565967]])"
      ]
     },
     "execution_count": 63,
     "metadata": {},
     "output_type": "execute_result"
    }
   ],
   "source": [
    "data.values"
   ]
  },
  {
   "cell_type": "code",
   "execution_count": 64,
   "metadata": {},
   "outputs": [
    {
     "data": {
      "text/html": [
       "<div>\n",
       "<style scoped>\n",
       "    .dataframe tbody tr th:only-of-type {\n",
       "        vertical-align: middle;\n",
       "    }\n",
       "\n",
       "    .dataframe tbody tr th {\n",
       "        vertical-align: top;\n",
       "    }\n",
       "\n",
       "    .dataframe thead th {\n",
       "        text-align: right;\n",
       "    }\n",
       "</style>\n",
       "<table border=\"1\" class=\"dataframe\">\n",
       "  <thead>\n",
       "    <tr style=\"text-align: right;\">\n",
       "      <th></th>\n",
       "      <th>a</th>\n",
       "      <th>b</th>\n",
       "      <th>c</th>\n",
       "    </tr>\n",
       "  </thead>\n",
       "  <tbody>\n",
       "    <tr>\n",
       "      <th>foo</th>\n",
       "      <td>0.622020</td>\n",
       "      <td>0.065628</td>\n",
       "      <td>0.462602</td>\n",
       "    </tr>\n",
       "    <tr>\n",
       "      <th>bar</th>\n",
       "      <td>0.742077</td>\n",
       "      <td>0.545538</td>\n",
       "      <td>0.043660</td>\n",
       "    </tr>\n",
       "    <tr>\n",
       "      <th>d</th>\n",
       "      <td>2.000000</td>\n",
       "      <td>2.000000</td>\n",
       "      <td>2.000000</td>\n",
       "    </tr>\n",
       "    <tr>\n",
       "      <th>foo/bar</th>\n",
       "      <td>0.838215</td>\n",
       "      <td>0.120299</td>\n",
       "      <td>10.595660</td>\n",
       "    </tr>\n",
       "  </tbody>\n",
       "</table>\n",
       "</div>"
      ],
      "text/plain": [
       "                a         b          c\n",
       "foo      0.622020  0.065628   0.462602\n",
       "bar      0.742077  0.545538   0.043660\n",
       "d        2.000000  2.000000   2.000000\n",
       "foo/bar  0.838215  0.120299  10.595660"
      ]
     },
     "execution_count": 64,
     "metadata": {},
     "output_type": "execute_result"
    }
   ],
   "source": [
    "data.T"
   ]
  },
  {
   "cell_type": "code",
   "execution_count": 65,
   "metadata": {},
   "outputs": [
    {
     "data": {
      "text/plain": [
       "array([0.62201983, 0.74207655, 2.        , 0.83821517])"
      ]
     },
     "execution_count": 65,
     "metadata": {},
     "output_type": "execute_result"
    }
   ],
   "source": [
    "data.values[0]"
   ]
  },
  {
   "cell_type": "markdown",
   "metadata": {},
   "source": [
    "Phép cộng trên dữ liệu Series"
   ]
  },
  {
   "cell_type": "code",
   "execution_count": 89,
   "metadata": {},
   "outputs": [
    {
     "data": {
      "text/plain": [
       "0    NaN\n",
       "1    5.0\n",
       "2    9.0\n",
       "3    NaN\n",
       "dtype: float64"
      ]
     },
     "execution_count": 89,
     "metadata": {},
     "output_type": "execute_result"
    }
   ],
   "source": [
    "A = pd.Series([2, 4, 6], index=[0, 1, 2])\n",
    "B = pd.Series([1, 3, 5], index=[1, 2, 3])\n",
    "A+B"
   ]
  },
  {
   "cell_type": "code",
   "execution_count": 90,
   "metadata": {},
   "outputs": [
    {
     "data": {
      "text/plain": [
       "0    2.0\n",
       "1    5.0\n",
       "2    9.0\n",
       "3    5.0\n",
       "dtype: float64"
      ]
     },
     "execution_count": 90,
     "metadata": {},
     "output_type": "execute_result"
    }
   ],
   "source": [
    "A.add(B, fill_value=0)"
   ]
  },
  {
   "cell_type": "code",
   "execution_count": 92,
   "metadata": {},
   "outputs": [
    {
     "data": {
      "text/plain": [
       "dtype('O')"
      ]
     },
     "execution_count": 92,
     "metadata": {},
     "output_type": "execute_result"
    }
   ],
   "source": [
    "a=np.array([1,None,3,4])\n",
    "a.dtype"
   ]
  },
  {
   "cell_type": "code",
   "execution_count": 93,
   "metadata": {},
   "outputs": [
    {
     "data": {
      "text/plain": [
       "dtype('float64')"
      ]
     },
     "execution_count": 93,
     "metadata": {},
     "output_type": "execute_result"
    }
   ],
   "source": [
    "b=np.array([1,np.nan,3,4])\n",
    "b.dtype"
   ]
  },
  {
   "cell_type": "code",
   "execution_count": 94,
   "metadata": {},
   "outputs": [
    {
     "data": {
      "text/plain": [
       "nan"
      ]
     },
     "execution_count": 94,
     "metadata": {},
     "output_type": "execute_result"
    }
   ],
   "source": [
    "1+np.nan"
   ]
  },
  {
   "cell_type": "code",
   "execution_count": 95,
   "metadata": {},
   "outputs": [
    {
     "data": {
      "text/plain": [
       "nan"
      ]
     },
     "execution_count": 95,
     "metadata": {},
     "output_type": "execute_result"
    }
   ],
   "source": [
    "b.sum()"
   ]
  },
  {
   "cell_type": "code",
   "execution_count": 96,
   "metadata": {},
   "outputs": [
    {
     "data": {
      "text/plain": [
       "0    1.0\n",
       "1    NaN\n",
       "2    2.0\n",
       "3    NaN\n",
       "dtype: float64"
      ]
     },
     "execution_count": 96,
     "metadata": {},
     "output_type": "execute_result"
    }
   ],
   "source": [
    "pd.Series([1,np.nan,2,None])"
   ]
  },
  {
   "cell_type": "code",
   "execution_count": 98,
   "metadata": {},
   "outputs": [
    {
     "data": {
      "text/plain": [
       "0    False\n",
       "1     True\n",
       "2    False\n",
       "3     True\n",
       "dtype: bool"
      ]
     },
     "execution_count": 98,
     "metadata": {},
     "output_type": "execute_result"
    }
   ],
   "source": [
    "data = pd.Series([1, np.nan, 'hello', None])\n",
    "data.isnull()"
   ]
  },
  {
   "cell_type": "code",
   "execution_count": 99,
   "metadata": {},
   "outputs": [
    {
     "data": {
      "text/plain": [
       "0     True\n",
       "1    False\n",
       "2     True\n",
       "3    False\n",
       "dtype: bool"
      ]
     },
     "execution_count": 99,
     "metadata": {},
     "output_type": "execute_result"
    }
   ],
   "source": [
    "data.notnull()"
   ]
  },
  {
   "cell_type": "code",
   "execution_count": 105,
   "metadata": {},
   "outputs": [
    {
     "data": {
      "text/plain": [
       "0        1\n",
       "2    hello\n",
       "dtype: object"
      ]
     },
     "execution_count": 105,
     "metadata": {},
     "output_type": "execute_result"
    }
   ],
   "source": [
    "data.dropna()"
   ]
  },
  {
   "cell_type": "code",
   "execution_count": 107,
   "metadata": {},
   "outputs": [
    {
     "data": {
      "text/plain": [
       "0        1\n",
       "1        0\n",
       "2    hello\n",
       "3        0\n",
       "dtype: object"
      ]
     },
     "execution_count": 107,
     "metadata": {},
     "output_type": "execute_result"
    }
   ],
   "source": [
    "data.fillna(0)"
   ]
  },
  {
   "cell_type": "code",
   "execution_count": 109,
   "metadata": {},
   "outputs": [
    {
     "data": {
      "text/plain": [
       "0        1\n",
       "1        1\n",
       "2    hello\n",
       "3    hello\n",
       "dtype: object"
      ]
     },
     "execution_count": 109,
     "metadata": {},
     "output_type": "execute_result"
    }
   ],
   "source": [
    "data.fillna(method='ffill')"
   ]
  },
  {
   "cell_type": "code",
   "execution_count": 110,
   "metadata": {},
   "outputs": [
    {
     "data": {
      "text/plain": [
       "0        1\n",
       "1    hello\n",
       "2    hello\n",
       "3     None\n",
       "dtype: object"
      ]
     },
     "execution_count": 110,
     "metadata": {},
     "output_type": "execute_result"
    }
   ],
   "source": [
    "data.fillna(method='bfill')"
   ]
  },
  {
   "cell_type": "code",
   "execution_count": 106,
   "metadata": {},
   "outputs": [],
   "source": [
    "data_frame=pd.read_csv('housing.csv')"
   ]
  },
  {
   "cell_type": "code",
   "execution_count": 74,
   "metadata": {},
   "outputs": [
    {
     "data": {
      "text/html": [
       "<div>\n",
       "<style scoped>\n",
       "    .dataframe tbody tr th:only-of-type {\n",
       "        vertical-align: middle;\n",
       "    }\n",
       "\n",
       "    .dataframe tbody tr th {\n",
       "        vertical-align: top;\n",
       "    }\n",
       "\n",
       "    .dataframe thead th {\n",
       "        text-align: right;\n",
       "    }\n",
       "</style>\n",
       "<table border=\"1\" class=\"dataframe\">\n",
       "  <thead>\n",
       "    <tr style=\"text-align: right;\">\n",
       "      <th></th>\n",
       "      <th>longitude</th>\n",
       "      <th>latitude</th>\n",
       "      <th>housing_median_age</th>\n",
       "      <th>total_rooms</th>\n",
       "      <th>total_bedrooms</th>\n",
       "      <th>population</th>\n",
       "      <th>households</th>\n",
       "      <th>median_income</th>\n",
       "      <th>median_house_value</th>\n",
       "      <th>ocean_proximity</th>\n",
       "    </tr>\n",
       "  </thead>\n",
       "  <tbody>\n",
       "    <tr>\n",
       "      <th>0</th>\n",
       "      <td>-122.23</td>\n",
       "      <td>37.88</td>\n",
       "      <td>41.0</td>\n",
       "      <td>880.0</td>\n",
       "      <td>129.0</td>\n",
       "      <td>322.0</td>\n",
       "      <td>126.0</td>\n",
       "      <td>8.3252</td>\n",
       "      <td>452600.0</td>\n",
       "      <td>NEAR BAY</td>\n",
       "    </tr>\n",
       "    <tr>\n",
       "      <th>1</th>\n",
       "      <td>-122.22</td>\n",
       "      <td>37.86</td>\n",
       "      <td>21.0</td>\n",
       "      <td>7099.0</td>\n",
       "      <td>1106.0</td>\n",
       "      <td>2401.0</td>\n",
       "      <td>1138.0</td>\n",
       "      <td>8.3014</td>\n",
       "      <td>358500.0</td>\n",
       "      <td>NEAR BAY</td>\n",
       "    </tr>\n",
       "    <tr>\n",
       "      <th>2</th>\n",
       "      <td>-122.24</td>\n",
       "      <td>37.85</td>\n",
       "      <td>52.0</td>\n",
       "      <td>1467.0</td>\n",
       "      <td>190.0</td>\n",
       "      <td>496.0</td>\n",
       "      <td>177.0</td>\n",
       "      <td>7.2574</td>\n",
       "      <td>352100.0</td>\n",
       "      <td>NEAR BAY</td>\n",
       "    </tr>\n",
       "    <tr>\n",
       "      <th>3</th>\n",
       "      <td>-122.25</td>\n",
       "      <td>37.85</td>\n",
       "      <td>52.0</td>\n",
       "      <td>1274.0</td>\n",
       "      <td>235.0</td>\n",
       "      <td>558.0</td>\n",
       "      <td>219.0</td>\n",
       "      <td>5.6431</td>\n",
       "      <td>341300.0</td>\n",
       "      <td>NEAR BAY</td>\n",
       "    </tr>\n",
       "    <tr>\n",
       "      <th>4</th>\n",
       "      <td>-122.25</td>\n",
       "      <td>37.85</td>\n",
       "      <td>52.0</td>\n",
       "      <td>1627.0</td>\n",
       "      <td>280.0</td>\n",
       "      <td>565.0</td>\n",
       "      <td>259.0</td>\n",
       "      <td>3.8462</td>\n",
       "      <td>342200.0</td>\n",
       "      <td>NEAR BAY</td>\n",
       "    </tr>\n",
       "  </tbody>\n",
       "</table>\n",
       "</div>"
      ],
      "text/plain": [
       "   longitude  latitude  housing_median_age  total_rooms  total_bedrooms  \\\n",
       "0    -122.23     37.88                41.0        880.0           129.0   \n",
       "1    -122.22     37.86                21.0       7099.0          1106.0   \n",
       "2    -122.24     37.85                52.0       1467.0           190.0   \n",
       "3    -122.25     37.85                52.0       1274.0           235.0   \n",
       "4    -122.25     37.85                52.0       1627.0           280.0   \n",
       "\n",
       "   population  households  median_income  median_house_value ocean_proximity  \n",
       "0       322.0       126.0         8.3252            452600.0        NEAR BAY  \n",
       "1      2401.0      1138.0         8.3014            358500.0        NEAR BAY  \n",
       "2       496.0       177.0         7.2574            352100.0        NEAR BAY  \n",
       "3       558.0       219.0         5.6431            341300.0        NEAR BAY  \n",
       "4       565.0       259.0         3.8462            342200.0        NEAR BAY  "
      ]
     },
     "execution_count": 74,
     "metadata": {},
     "output_type": "execute_result"
    }
   ],
   "source": [
    "#Xem heading của dữ liệu \n",
    "data_frame.head()"
   ]
  },
  {
   "cell_type": "code",
   "execution_count": 75,
   "metadata": {},
   "outputs": [
    {
     "data": {
      "text/plain": [
       "(20640, 10)"
      ]
     },
     "execution_count": 75,
     "metadata": {},
     "output_type": "execute_result"
    }
   ],
   "source": [
    "#Xem ma trận dữ liệu \n",
    "data_frame.shape"
   ]
  },
  {
   "cell_type": "code",
   "execution_count": 76,
   "metadata": {},
   "outputs": [
    {
     "name": "stdout",
     "output_type": "stream",
     "text": [
      "<class 'pandas.core.frame.DataFrame'>\n",
      "RangeIndex: 20640 entries, 0 to 20639\n",
      "Data columns (total 10 columns):\n",
      " #   Column              Non-Null Count  Dtype  \n",
      "---  ------              --------------  -----  \n",
      " 0   longitude           20640 non-null  float64\n",
      " 1   latitude            20640 non-null  float64\n",
      " 2   housing_median_age  20640 non-null  float64\n",
      " 3   total_rooms         20640 non-null  float64\n",
      " 4   total_bedrooms      20433 non-null  float64\n",
      " 5   population          20640 non-null  float64\n",
      " 6   households          20640 non-null  float64\n",
      " 7   median_income       20640 non-null  float64\n",
      " 8   median_house_value  20640 non-null  float64\n",
      " 9   ocean_proximity     20640 non-null  object \n",
      "dtypes: float64(9), object(1)\n",
      "memory usage: 1.5+ MB\n"
     ]
    }
   ],
   "source": [
    "#Xem information số hàng,cột,dữ liệu rỗng, kiểu dữ liệu \n",
    "data_frame.info()"
   ]
  },
  {
   "cell_type": "code",
   "execution_count": 77,
   "metadata": {},
   "outputs": [
    {
     "data": {
      "text/plain": [
       "Index(['longitude', 'latitude', 'housing_median_age', 'total_rooms',\n",
       "       'total_bedrooms', 'population', 'households', 'median_income',\n",
       "       'median_house_value', 'ocean_proximity'],\n",
       "      dtype='object')"
      ]
     },
     "execution_count": 77,
     "metadata": {},
     "output_type": "execute_result"
    }
   ],
   "source": [
    "#Dùng columns xem ý nghĩa của các hàng\n",
    "data_frame.columns"
   ]
  },
  {
   "cell_type": "code",
   "execution_count": 78,
   "metadata": {},
   "outputs": [
    {
     "data": {
      "text/plain": [
       "RangeIndex(start=0, stop=20640, step=1)"
      ]
     },
     "execution_count": 78,
     "metadata": {},
     "output_type": "execute_result"
    }
   ],
   "source": [
    "#Index xem cột\n",
    "data_frame.index"
   ]
  },
  {
   "cell_type": "code",
   "execution_count": 79,
   "metadata": {},
   "outputs": [
    {
     "data": {
      "text/html": [
       "<div>\n",
       "<style scoped>\n",
       "    .dataframe tbody tr th:only-of-type {\n",
       "        vertical-align: middle;\n",
       "    }\n",
       "\n",
       "    .dataframe tbody tr th {\n",
       "        vertical-align: top;\n",
       "    }\n",
       "\n",
       "    .dataframe thead th {\n",
       "        text-align: right;\n",
       "    }\n",
       "</style>\n",
       "<table border=\"1\" class=\"dataframe\">\n",
       "  <thead>\n",
       "    <tr style=\"text-align: right;\">\n",
       "      <th></th>\n",
       "      <th>longitude</th>\n",
       "      <th>latitude</th>\n",
       "      <th>housing_median_age</th>\n",
       "      <th>total_rooms</th>\n",
       "      <th>total_bedrooms</th>\n",
       "      <th>population</th>\n",
       "      <th>households</th>\n",
       "      <th>median_income</th>\n",
       "      <th>median_house_value</th>\n",
       "    </tr>\n",
       "  </thead>\n",
       "  <tbody>\n",
       "    <tr>\n",
       "      <th>count</th>\n",
       "      <td>20640.000000</td>\n",
       "      <td>20640.000000</td>\n",
       "      <td>20640.000000</td>\n",
       "      <td>20640.000000</td>\n",
       "      <td>20433.000000</td>\n",
       "      <td>20640.000000</td>\n",
       "      <td>20640.000000</td>\n",
       "      <td>20640.000000</td>\n",
       "      <td>20640.000000</td>\n",
       "    </tr>\n",
       "    <tr>\n",
       "      <th>mean</th>\n",
       "      <td>-119.569704</td>\n",
       "      <td>35.631861</td>\n",
       "      <td>28.639486</td>\n",
       "      <td>2635.763081</td>\n",
       "      <td>537.870553</td>\n",
       "      <td>1425.476744</td>\n",
       "      <td>499.539680</td>\n",
       "      <td>3.870671</td>\n",
       "      <td>206855.816909</td>\n",
       "    </tr>\n",
       "    <tr>\n",
       "      <th>std</th>\n",
       "      <td>2.003532</td>\n",
       "      <td>2.135952</td>\n",
       "      <td>12.585558</td>\n",
       "      <td>2181.615252</td>\n",
       "      <td>421.385070</td>\n",
       "      <td>1132.462122</td>\n",
       "      <td>382.329753</td>\n",
       "      <td>1.899822</td>\n",
       "      <td>115395.615874</td>\n",
       "    </tr>\n",
       "    <tr>\n",
       "      <th>min</th>\n",
       "      <td>-124.350000</td>\n",
       "      <td>32.540000</td>\n",
       "      <td>1.000000</td>\n",
       "      <td>2.000000</td>\n",
       "      <td>1.000000</td>\n",
       "      <td>3.000000</td>\n",
       "      <td>1.000000</td>\n",
       "      <td>0.499900</td>\n",
       "      <td>14999.000000</td>\n",
       "    </tr>\n",
       "    <tr>\n",
       "      <th>25%</th>\n",
       "      <td>-121.800000</td>\n",
       "      <td>33.930000</td>\n",
       "      <td>18.000000</td>\n",
       "      <td>1447.750000</td>\n",
       "      <td>296.000000</td>\n",
       "      <td>787.000000</td>\n",
       "      <td>280.000000</td>\n",
       "      <td>2.563400</td>\n",
       "      <td>119600.000000</td>\n",
       "    </tr>\n",
       "    <tr>\n",
       "      <th>50%</th>\n",
       "      <td>-118.490000</td>\n",
       "      <td>34.260000</td>\n",
       "      <td>29.000000</td>\n",
       "      <td>2127.000000</td>\n",
       "      <td>435.000000</td>\n",
       "      <td>1166.000000</td>\n",
       "      <td>409.000000</td>\n",
       "      <td>3.534800</td>\n",
       "      <td>179700.000000</td>\n",
       "    </tr>\n",
       "    <tr>\n",
       "      <th>75%</th>\n",
       "      <td>-118.010000</td>\n",
       "      <td>37.710000</td>\n",
       "      <td>37.000000</td>\n",
       "      <td>3148.000000</td>\n",
       "      <td>647.000000</td>\n",
       "      <td>1725.000000</td>\n",
       "      <td>605.000000</td>\n",
       "      <td>4.743250</td>\n",
       "      <td>264725.000000</td>\n",
       "    </tr>\n",
       "    <tr>\n",
       "      <th>max</th>\n",
       "      <td>-114.310000</td>\n",
       "      <td>41.950000</td>\n",
       "      <td>52.000000</td>\n",
       "      <td>39320.000000</td>\n",
       "      <td>6445.000000</td>\n",
       "      <td>35682.000000</td>\n",
       "      <td>6082.000000</td>\n",
       "      <td>15.000100</td>\n",
       "      <td>500001.000000</td>\n",
       "    </tr>\n",
       "  </tbody>\n",
       "</table>\n",
       "</div>"
      ],
      "text/plain": [
       "          longitude      latitude  housing_median_age   total_rooms  \\\n",
       "count  20640.000000  20640.000000        20640.000000  20640.000000   \n",
       "mean    -119.569704     35.631861           28.639486   2635.763081   \n",
       "std        2.003532      2.135952           12.585558   2181.615252   \n",
       "min     -124.350000     32.540000            1.000000      2.000000   \n",
       "25%     -121.800000     33.930000           18.000000   1447.750000   \n",
       "50%     -118.490000     34.260000           29.000000   2127.000000   \n",
       "75%     -118.010000     37.710000           37.000000   3148.000000   \n",
       "max     -114.310000     41.950000           52.000000  39320.000000   \n",
       "\n",
       "       total_bedrooms    population    households  median_income  \\\n",
       "count    20433.000000  20640.000000  20640.000000   20640.000000   \n",
       "mean       537.870553   1425.476744    499.539680       3.870671   \n",
       "std        421.385070   1132.462122    382.329753       1.899822   \n",
       "min          1.000000      3.000000      1.000000       0.499900   \n",
       "25%        296.000000    787.000000    280.000000       2.563400   \n",
       "50%        435.000000   1166.000000    409.000000       3.534800   \n",
       "75%        647.000000   1725.000000    605.000000       4.743250   \n",
       "max       6445.000000  35682.000000   6082.000000      15.000100   \n",
       "\n",
       "       median_house_value  \n",
       "count        20640.000000  \n",
       "mean        206855.816909  \n",
       "std         115395.615874  \n",
       "min          14999.000000  \n",
       "25%         119600.000000  \n",
       "50%         179700.000000  \n",
       "75%         264725.000000  \n",
       "max         500001.000000  "
      ]
     },
     "execution_count": 79,
     "metadata": {},
     "output_type": "execute_result"
    }
   ],
   "source": [
    "#Describe để tính thống kê(count,mean,standard deviation,min,max)\n",
    "data_frame.describe()"
   ]
  },
  {
   "cell_type": "code",
   "execution_count": 82,
   "metadata": {},
   "outputs": [
    {
     "data": {
      "text/plain": [
       "longitude               0\n",
       "latitude                0\n",
       "housing_median_age      0\n",
       "total_rooms             0\n",
       "total_bedrooms        207\n",
       "population              0\n",
       "households              0\n",
       "median_income           0\n",
       "median_house_value      0\n",
       "ocean_proximity         0\n",
       "dtype: int64"
      ]
     },
     "execution_count": 82,
     "metadata": {},
     "output_type": "execute_result"
    }
   ],
   "source": [
    "data_frame.isnull().sum()"
   ]
  },
  {
   "cell_type": "code",
   "execution_count": 112,
   "metadata": {},
   "outputs": [
    {
     "data": {
      "text/plain": [
       "2655    -124.35\n",
       "1861    -124.30\n",
       "1851    -124.30\n",
       "2631    -124.27\n",
       "2653    -124.26\n",
       "          ...  \n",
       "12450   -114.56\n",
       "2780    -114.55\n",
       "12447   -114.49\n",
       "13923   -114.47\n",
       "13924   -114.31\n",
       "Name: longitude, Length: 20640, dtype: float64"
      ]
     },
     "execution_count": 112,
     "metadata": {},
     "output_type": "execute_result"
    }
   ],
   "source": [
    "data_frame['longitude'].sort_values(ascending=True)"
   ]
  },
  {
   "cell_type": "code",
   "execution_count": 114,
   "metadata": {},
   "outputs": [
    {
     "data": {
      "text/html": [
       "<div>\n",
       "<style scoped>\n",
       "    .dataframe tbody tr th:only-of-type {\n",
       "        vertical-align: middle;\n",
       "    }\n",
       "\n",
       "    .dataframe tbody tr th {\n",
       "        vertical-align: top;\n",
       "    }\n",
       "\n",
       "    .dataframe thead th {\n",
       "        text-align: right;\n",
       "    }\n",
       "</style>\n",
       "<table border=\"1\" class=\"dataframe\">\n",
       "  <thead>\n",
       "    <tr style=\"text-align: right;\">\n",
       "      <th></th>\n",
       "      <th>longitude</th>\n",
       "      <th>latitude</th>\n",
       "      <th>total_rooms</th>\n",
       "      <th>total_bedrooms</th>\n",
       "      <th>population</th>\n",
       "      <th>households</th>\n",
       "      <th>median_income</th>\n",
       "      <th>median_house_value</th>\n",
       "    </tr>\n",
       "    <tr>\n",
       "      <th>housing_median_age</th>\n",
       "      <th></th>\n",
       "      <th></th>\n",
       "      <th></th>\n",
       "      <th></th>\n",
       "      <th></th>\n",
       "      <th></th>\n",
       "      <th></th>\n",
       "      <th></th>\n",
       "    </tr>\n",
       "  </thead>\n",
       "  <tbody>\n",
       "    <tr>\n",
       "      <th>1.0</th>\n",
       "      <td>-477.83</td>\n",
       "      <td>144.82</td>\n",
       "      <td>4405.0</td>\n",
       "      <td>688.0</td>\n",
       "      <td>1314.0</td>\n",
       "      <td>397.0</td>\n",
       "      <td>16.0136</td>\n",
       "      <td>577200.0</td>\n",
       "    </tr>\n",
       "    <tr>\n",
       "      <th>2.0</th>\n",
       "      <td>-6909.04</td>\n",
       "      <td>2058.68</td>\n",
       "      <td>320757.0</td>\n",
       "      <td>52998.0</td>\n",
       "      <td>120817.0</td>\n",
       "      <td>42026.0</td>\n",
       "      <td>299.7304</td>\n",
       "      <td>13019603.0</td>\n",
       "    </tr>\n",
       "    <tr>\n",
       "      <th>3.0</th>\n",
       "      <td>-7374.06</td>\n",
       "      <td>2187.64</td>\n",
       "      <td>443925.0</td>\n",
       "      <td>76472.0</td>\n",
       "      <td>186110.0</td>\n",
       "      <td>65716.0</td>\n",
       "      <td>338.5360</td>\n",
       "      <td>14609902.0</td>\n",
       "    </tr>\n",
       "    <tr>\n",
       "      <th>4.0</th>\n",
       "      <td>-22693.53</td>\n",
       "      <td>6678.69</td>\n",
       "      <td>1191321.0</td>\n",
       "      <td>211478.0</td>\n",
       "      <td>537314.0</td>\n",
       "      <td>191924.0</td>\n",
       "      <td>989.5086</td>\n",
       "      <td>43783911.0</td>\n",
       "    </tr>\n",
       "    <tr>\n",
       "      <th>5.0</th>\n",
       "      <td>-29016.00</td>\n",
       "      <td>8597.16</td>\n",
       "      <td>1224467.0</td>\n",
       "      <td>226467.0</td>\n",
       "      <td>603017.0</td>\n",
       "      <td>205983.0</td>\n",
       "      <td>1146.2232</td>\n",
       "      <td>50853908.0</td>\n",
       "    </tr>\n",
       "    <tr>\n",
       "      <th>6.0</th>\n",
       "      <td>-19039.09</td>\n",
       "      <td>5637.30</td>\n",
       "      <td>726625.0</td>\n",
       "      <td>135649.0</td>\n",
       "      <td>346502.0</td>\n",
       "      <td>123220.0</td>\n",
       "      <td>701.3428</td>\n",
       "      <td>32607103.0</td>\n",
       "    </tr>\n",
       "    <tr>\n",
       "      <th>7.0</th>\n",
       "      <td>-20844.51</td>\n",
       "      <td>6220.25</td>\n",
       "      <td>950376.0</td>\n",
       "      <td>172031.0</td>\n",
       "      <td>457289.0</td>\n",
       "      <td>157612.0</td>\n",
       "      <td>781.2799</td>\n",
       "      <td>33826806.0</td>\n",
       "    </tr>\n",
       "    <tr>\n",
       "      <th>8.0</th>\n",
       "      <td>-24579.97</td>\n",
       "      <td>7363.23</td>\n",
       "      <td>821853.0</td>\n",
       "      <td>155131.0</td>\n",
       "      <td>415781.0</td>\n",
       "      <td>143010.0</td>\n",
       "      <td>918.6237</td>\n",
       "      <td>40049404.0</td>\n",
       "    </tr>\n",
       "    <tr>\n",
       "      <th>9.0</th>\n",
       "      <td>-24457.61</td>\n",
       "      <td>7315.09</td>\n",
       "      <td>785483.0</td>\n",
       "      <td>147406.0</td>\n",
       "      <td>386830.0</td>\n",
       "      <td>134464.0</td>\n",
       "      <td>884.8672</td>\n",
       "      <td>38267904.0</td>\n",
       "    </tr>\n",
       "    <tr>\n",
       "      <th>10.0</th>\n",
       "      <td>-31521.73</td>\n",
       "      <td>9481.46</td>\n",
       "      <td>927976.0</td>\n",
       "      <td>180379.0</td>\n",
       "      <td>452212.0</td>\n",
       "      <td>160167.0</td>\n",
       "      <td>1069.3342</td>\n",
       "      <td>46617306.0</td>\n",
       "    </tr>\n",
       "    <tr>\n",
       "      <th>11.0</th>\n",
       "      <td>-30349.14</td>\n",
       "      <td>9117.60</td>\n",
       "      <td>984691.0</td>\n",
       "      <td>190889.0</td>\n",
       "      <td>505436.0</td>\n",
       "      <td>172393.0</td>\n",
       "      <td>998.8787</td>\n",
       "      <td>45696607.0</td>\n",
       "    </tr>\n",
       "    <tr>\n",
       "      <th>12.0</th>\n",
       "      <td>-28404.41</td>\n",
       "      <td>8504.19</td>\n",
       "      <td>990669.0</td>\n",
       "      <td>195240.0</td>\n",
       "      <td>506848.0</td>\n",
       "      <td>179266.0</td>\n",
       "      <td>949.2420</td>\n",
       "      <td>43327004.0</td>\n",
       "    </tr>\n",
       "    <tr>\n",
       "      <th>13.0</th>\n",
       "      <td>-36052.99</td>\n",
       "      <td>10816.86</td>\n",
       "      <td>1096493.0</td>\n",
       "      <td>211178.0</td>\n",
       "      <td>536457.0</td>\n",
       "      <td>193161.0</td>\n",
       "      <td>1253.5640</td>\n",
       "      <td>57434906.0</td>\n",
       "    </tr>\n",
       "    <tr>\n",
       "      <th>14.0</th>\n",
       "      <td>-49254.18</td>\n",
       "      <td>14821.81</td>\n",
       "      <td>1508110.0</td>\n",
       "      <td>292106.0</td>\n",
       "      <td>765142.0</td>\n",
       "      <td>265373.0</td>\n",
       "      <td>1695.6028</td>\n",
       "      <td>78114007.0</td>\n",
       "    </tr>\n",
       "    <tr>\n",
       "      <th>15.0</th>\n",
       "      <td>-61182.52</td>\n",
       "      <td>18381.02</td>\n",
       "      <td>1680626.0</td>\n",
       "      <td>323864.0</td>\n",
       "      <td>830622.0</td>\n",
       "      <td>297368.0</td>\n",
       "      <td>2079.9001</td>\n",
       "      <td>93085909.0</td>\n",
       "    </tr>\n",
       "    <tr>\n",
       "      <th>16.0</th>\n",
       "      <td>-92178.90</td>\n",
       "      <td>27549.57</td>\n",
       "      <td>2287225.0</td>\n",
       "      <td>438912.0</td>\n",
       "      <td>1143822.0</td>\n",
       "      <td>410334.0</td>\n",
       "      <td>3310.6721</td>\n",
       "      <td>154339214.0</td>\n",
       "    </tr>\n",
       "    <tr>\n",
       "      <th>17.0</th>\n",
       "      <td>-83502.19</td>\n",
       "      <td>25103.60</td>\n",
       "      <td>2205306.0</td>\n",
       "      <td>439324.0</td>\n",
       "      <td>1120882.0</td>\n",
       "      <td>403343.0</td>\n",
       "      <td>2747.2069</td>\n",
       "      <td>132965014.0</td>\n",
       "    </tr>\n",
       "    <tr>\n",
       "      <th>18.0</th>\n",
       "      <td>-68213.04</td>\n",
       "      <td>20488.63</td>\n",
       "      <td>1770519.0</td>\n",
       "      <td>347378.0</td>\n",
       "      <td>916939.0</td>\n",
       "      <td>325163.0</td>\n",
       "      <td>2267.0861</td>\n",
       "      <td>110212217.0</td>\n",
       "    </tr>\n",
       "    <tr>\n",
       "      <th>19.0</th>\n",
       "      <td>-60003.12</td>\n",
       "      <td>17985.10</td>\n",
       "      <td>1542145.0</td>\n",
       "      <td>319986.0</td>\n",
       "      <td>812882.0</td>\n",
       "      <td>294775.0</td>\n",
       "      <td>1887.7152</td>\n",
       "      <td>96985315.0</td>\n",
       "    </tr>\n",
       "    <tr>\n",
       "      <th>20.0</th>\n",
       "      <td>-55749.70</td>\n",
       "      <td>16806.56</td>\n",
       "      <td>1347122.0</td>\n",
       "      <td>275791.0</td>\n",
       "      <td>718697.0</td>\n",
       "      <td>259715.0</td>\n",
       "      <td>1757.0574</td>\n",
       "      <td>90981814.0</td>\n",
       "    </tr>\n",
       "    <tr>\n",
       "      <th>21.0</th>\n",
       "      <td>-53354.55</td>\n",
       "      <td>15957.72</td>\n",
       "      <td>1404025.0</td>\n",
       "      <td>289957.0</td>\n",
       "      <td>739376.0</td>\n",
       "      <td>269135.0</td>\n",
       "      <td>1718.0456</td>\n",
       "      <td>89269815.0</td>\n",
       "    </tr>\n",
       "    <tr>\n",
       "      <th>22.0</th>\n",
       "      <td>-47745.55</td>\n",
       "      <td>14294.14</td>\n",
       "      <td>1295749.0</td>\n",
       "      <td>264498.0</td>\n",
       "      <td>692938.0</td>\n",
       "      <td>245264.0</td>\n",
       "      <td>1565.1372</td>\n",
       "      <td>83749126.0</td>\n",
       "    </tr>\n",
       "    <tr>\n",
       "      <th>23.0</th>\n",
       "      <td>-53592.00</td>\n",
       "      <td>16008.07</td>\n",
       "      <td>1297646.0</td>\n",
       "      <td>257399.0</td>\n",
       "      <td>696320.0</td>\n",
       "      <td>242101.0</td>\n",
       "      <td>1769.3872</td>\n",
       "      <td>91640524.0</td>\n",
       "    </tr>\n",
       "    <tr>\n",
       "      <th>24.0</th>\n",
       "      <td>-57048.71</td>\n",
       "      <td>16926.22</td>\n",
       "      <td>1392337.0</td>\n",
       "      <td>286027.0</td>\n",
       "      <td>769580.0</td>\n",
       "      <td>271248.0</td>\n",
       "      <td>1869.6693</td>\n",
       "      <td>98388221.0</td>\n",
       "    </tr>\n",
       "    <tr>\n",
       "      <th>25.0</th>\n",
       "      <td>-67601.17</td>\n",
       "      <td>20095.11</td>\n",
       "      <td>1586752.0</td>\n",
       "      <td>325735.0</td>\n",
       "      <td>871352.0</td>\n",
       "      <td>306844.0</td>\n",
       "      <td>2331.8840</td>\n",
       "      <td>124754426.0</td>\n",
       "    </tr>\n",
       "    <tr>\n",
       "      <th>26.0</th>\n",
       "      <td>-73966.99</td>\n",
       "      <td>21978.63</td>\n",
       "      <td>1609134.0</td>\n",
       "      <td>318908.0</td>\n",
       "      <td>889869.0</td>\n",
       "      <td>304724.0</td>\n",
       "      <td>2523.6099</td>\n",
       "      <td>129665221.0</td>\n",
       "    </tr>\n",
       "    <tr>\n",
       "      <th>27.0</th>\n",
       "      <td>-58379.19</td>\n",
       "      <td>17382.71</td>\n",
       "      <td>1254829.0</td>\n",
       "      <td>260728.0</td>\n",
       "      <td>689377.0</td>\n",
       "      <td>245262.0</td>\n",
       "      <td>1880.5818</td>\n",
       "      <td>101648923.0</td>\n",
       "    </tr>\n",
       "    <tr>\n",
       "      <th>28.0</th>\n",
       "      <td>-56307.82</td>\n",
       "      <td>16746.72</td>\n",
       "      <td>1184647.0</td>\n",
       "      <td>252998.0</td>\n",
       "      <td>679925.0</td>\n",
       "      <td>238525.0</td>\n",
       "      <td>1767.3394</td>\n",
       "      <td>98042826.0</td>\n",
       "    </tr>\n",
       "    <tr>\n",
       "      <th>29.0</th>\n",
       "      <td>-55065.64</td>\n",
       "      <td>16367.05</td>\n",
       "      <td>1148069.0</td>\n",
       "      <td>240771.0</td>\n",
       "      <td>670398.0</td>\n",
       "      <td>229332.0</td>\n",
       "      <td>1650.5204</td>\n",
       "      <td>90922016.0</td>\n",
       "    </tr>\n",
       "    <tr>\n",
       "      <th>30.0</th>\n",
       "      <td>-56862.28</td>\n",
       "      <td>16872.54</td>\n",
       "      <td>1111011.0</td>\n",
       "      <td>240608.0</td>\n",
       "      <td>672986.0</td>\n",
       "      <td>228644.0</td>\n",
       "      <td>1707.7143</td>\n",
       "      <td>95320219.0</td>\n",
       "    </tr>\n",
       "    <tr>\n",
       "      <th>31.0</th>\n",
       "      <td>-54687.53</td>\n",
       "      <td>16199.55</td>\n",
       "      <td>1066003.0</td>\n",
       "      <td>227214.0</td>\n",
       "      <td>636985.0</td>\n",
       "      <td>218673.0</td>\n",
       "      <td>1652.4300</td>\n",
       "      <td>94844526.0</td>\n",
       "    </tr>\n",
       "    <tr>\n",
       "      <th>32.0</th>\n",
       "      <td>-67491.46</td>\n",
       "      <td>20043.40</td>\n",
       "      <td>1312280.0</td>\n",
       "      <td>268433.0</td>\n",
       "      <td>771161.0</td>\n",
       "      <td>256677.0</td>\n",
       "      <td>2135.0755</td>\n",
       "      <td>114926730.0</td>\n",
       "    </tr>\n",
       "    <tr>\n",
       "      <th>33.0</th>\n",
       "      <td>-73417.43</td>\n",
       "      <td>21762.23</td>\n",
       "      <td>1360891.0</td>\n",
       "      <td>277305.0</td>\n",
       "      <td>802187.0</td>\n",
       "      <td>267442.0</td>\n",
       "      <td>2357.0645</td>\n",
       "      <td>125231328.0</td>\n",
       "    </tr>\n",
       "    <tr>\n",
       "      <th>34.0</th>\n",
       "      <td>-82129.03</td>\n",
       "      <td>24228.32</td>\n",
       "      <td>1478647.0</td>\n",
       "      <td>296480.0</td>\n",
       "      <td>849630.0</td>\n",
       "      <td>285606.0</td>\n",
       "      <td>2745.5980</td>\n",
       "      <td>147855240.0</td>\n",
       "    </tr>\n",
       "    <tr>\n",
       "      <th>35.0</th>\n",
       "      <td>-98266.38</td>\n",
       "      <td>28980.68</td>\n",
       "      <td>1631402.0</td>\n",
       "      <td>331534.0</td>\n",
       "      <td>992448.0</td>\n",
       "      <td>321586.0</td>\n",
       "      <td>3224.4005</td>\n",
       "      <td>170814335.0</td>\n",
       "    </tr>\n",
       "    <tr>\n",
       "      <th>36.0</th>\n",
       "      <td>-102813.48</td>\n",
       "      <td>30318.66</td>\n",
       "      <td>1585965.0</td>\n",
       "      <td>321823.0</td>\n",
       "      <td>942467.0</td>\n",
       "      <td>311736.0</td>\n",
       "      <td>3392.7959</td>\n",
       "      <td>178928739.0</td>\n",
       "    </tr>\n",
       "    <tr>\n",
       "      <th>37.0</th>\n",
       "      <td>-64141.49</td>\n",
       "      <td>18976.75</td>\n",
       "      <td>974261.0</td>\n",
       "      <td>202746.0</td>\n",
       "      <td>580008.0</td>\n",
       "      <td>196654.0</td>\n",
       "      <td>2012.4289</td>\n",
       "      <td>111352735.0</td>\n",
       "    </tr>\n",
       "    <tr>\n",
       "      <th>38.0</th>\n",
       "      <td>-47029.09</td>\n",
       "      <td>13928.09</td>\n",
       "      <td>720469.0</td>\n",
       "      <td>154351.0</td>\n",
       "      <td>433760.0</td>\n",
       "      <td>148216.0</td>\n",
       "      <td>1357.8268</td>\n",
       "      <td>76275916.0</td>\n",
       "    </tr>\n",
       "    <tr>\n",
       "      <th>39.0</th>\n",
       "      <td>-44144.21</td>\n",
       "      <td>13104.97</td>\n",
       "      <td>700262.0</td>\n",
       "      <td>152508.0</td>\n",
       "      <td>428133.0</td>\n",
       "      <td>145835.0</td>\n",
       "      <td>1268.5062</td>\n",
       "      <td>77080617.0</td>\n",
       "    </tr>\n",
       "    <tr>\n",
       "      <th>40.0</th>\n",
       "      <td>-36345.63</td>\n",
       "      <td>10773.91</td>\n",
       "      <td>542917.0</td>\n",
       "      <td>120234.0</td>\n",
       "      <td>332781.0</td>\n",
       "      <td>114540.0</td>\n",
       "      <td>1050.7304</td>\n",
       "      <td>63511219.0</td>\n",
       "    </tr>\n",
       "    <tr>\n",
       "      <th>41.0</th>\n",
       "      <td>-35351.07</td>\n",
       "      <td>10462.11</td>\n",
       "      <td>484710.0</td>\n",
       "      <td>109922.0</td>\n",
       "      <td>307853.0</td>\n",
       "      <td>104220.0</td>\n",
       "      <td>938.3370</td>\n",
       "      <td>58387117.0</td>\n",
       "    </tr>\n",
       "    <tr>\n",
       "      <th>42.0</th>\n",
       "      <td>-43968.84</td>\n",
       "      <td>13007.33</td>\n",
       "      <td>640340.0</td>\n",
       "      <td>142493.0</td>\n",
       "      <td>417648.0</td>\n",
       "      <td>138490.0</td>\n",
       "      <td>1262.7240</td>\n",
       "      <td>73148318.0</td>\n",
       "    </tr>\n",
       "    <tr>\n",
       "      <th>43.0</th>\n",
       "      <td>-42242.84</td>\n",
       "      <td>12551.33</td>\n",
       "      <td>608594.0</td>\n",
       "      <td>137367.0</td>\n",
       "      <td>375932.0</td>\n",
       "      <td>130764.0</td>\n",
       "      <td>1133.5311</td>\n",
       "      <td>68354615.0</td>\n",
       "    </tr>\n",
       "    <tr>\n",
       "      <th>44.0</th>\n",
       "      <td>-42547.76</td>\n",
       "      <td>12576.38</td>\n",
       "      <td>636272.0</td>\n",
       "      <td>135060.0</td>\n",
       "      <td>367075.0</td>\n",
       "      <td>128731.0</td>\n",
       "      <td>1247.1105</td>\n",
       "      <td>76979116.0</td>\n",
       "    </tr>\n",
       "    <tr>\n",
       "      <th>45.0</th>\n",
       "      <td>-35182.96</td>\n",
       "      <td>10435.31</td>\n",
       "      <td>520598.0</td>\n",
       "      <td>107733.0</td>\n",
       "      <td>304385.0</td>\n",
       "      <td>105708.0</td>\n",
       "      <td>1077.6398</td>\n",
       "      <td>64032618.0</td>\n",
       "    </tr>\n",
       "    <tr>\n",
       "      <th>46.0</th>\n",
       "      <td>-29353.83</td>\n",
       "      <td>8734.97</td>\n",
       "      <td>434851.0</td>\n",
       "      <td>95865.0</td>\n",
       "      <td>257693.0</td>\n",
       "      <td>91787.0</td>\n",
       "      <td>832.5437</td>\n",
       "      <td>49192309.0</td>\n",
       "    </tr>\n",
       "    <tr>\n",
       "      <th>47.0</th>\n",
       "      <td>-23745.66</td>\n",
       "      <td>7083.96</td>\n",
       "      <td>351010.0</td>\n",
       "      <td>76223.0</td>\n",
       "      <td>209883.0</td>\n",
       "      <td>73357.0</td>\n",
       "      <td>651.6012</td>\n",
       "      <td>37739008.0</td>\n",
       "    </tr>\n",
       "    <tr>\n",
       "      <th>48.0</th>\n",
       "      <td>-21207.55</td>\n",
       "      <td>6321.60</td>\n",
       "      <td>311823.0</td>\n",
       "      <td>66682.0</td>\n",
       "      <td>171854.0</td>\n",
       "      <td>63470.0</td>\n",
       "      <td>614.7494</td>\n",
       "      <td>39395210.0</td>\n",
       "    </tr>\n",
       "    <tr>\n",
       "      <th>49.0</th>\n",
       "      <td>-16116.94</td>\n",
       "      <td>4826.02</td>\n",
       "      <td>247805.0</td>\n",
       "      <td>52402.0</td>\n",
       "      <td>132552.0</td>\n",
       "      <td>50072.0</td>\n",
       "      <td>475.7663</td>\n",
       "      <td>29525008.0</td>\n",
       "    </tr>\n",
       "    <tr>\n",
       "      <th>50.0</th>\n",
       "      <td>-16336.81</td>\n",
       "      <td>4894.27</td>\n",
       "      <td>243770.0</td>\n",
       "      <td>53655.0</td>\n",
       "      <td>135861.0</td>\n",
       "      <td>50654.0</td>\n",
       "      <td>468.4233</td>\n",
       "      <td>29631713.0</td>\n",
       "    </tr>\n",
       "    <tr>\n",
       "      <th>51.0</th>\n",
       "      <td>-5783.48</td>\n",
       "      <td>1745.24</td>\n",
       "      <td>88918.0</td>\n",
       "      <td>18521.0</td>\n",
       "      <td>45183.0</td>\n",
       "      <td>18133.0</td>\n",
       "      <td>164.3351</td>\n",
       "      <td>10930504.0</td>\n",
       "    </tr>\n",
       "    <tr>\n",
       "      <th>52.0</th>\n",
       "      <td>-153887.77</td>\n",
       "      <td>46598.37</td>\n",
       "      <td>2366069.0</td>\n",
       "      <td>510762.0</td>\n",
       "      <td>1189327.0</td>\n",
       "      <td>481659.0</td>\n",
       "      <td>4950.7574</td>\n",
       "      <td>350610769.0</td>\n",
       "    </tr>\n",
       "  </tbody>\n",
       "</table>\n",
       "</div>"
      ],
      "text/plain": [
       "                    longitude  latitude  total_rooms  total_bedrooms  \\\n",
       "housing_median_age                                                     \n",
       "1.0                   -477.83    144.82       4405.0           688.0   \n",
       "2.0                  -6909.04   2058.68     320757.0         52998.0   \n",
       "3.0                  -7374.06   2187.64     443925.0         76472.0   \n",
       "4.0                 -22693.53   6678.69    1191321.0        211478.0   \n",
       "5.0                 -29016.00   8597.16    1224467.0        226467.0   \n",
       "6.0                 -19039.09   5637.30     726625.0        135649.0   \n",
       "7.0                 -20844.51   6220.25     950376.0        172031.0   \n",
       "8.0                 -24579.97   7363.23     821853.0        155131.0   \n",
       "9.0                 -24457.61   7315.09     785483.0        147406.0   \n",
       "10.0                -31521.73   9481.46     927976.0        180379.0   \n",
       "11.0                -30349.14   9117.60     984691.0        190889.0   \n",
       "12.0                -28404.41   8504.19     990669.0        195240.0   \n",
       "13.0                -36052.99  10816.86    1096493.0        211178.0   \n",
       "14.0                -49254.18  14821.81    1508110.0        292106.0   \n",
       "15.0                -61182.52  18381.02    1680626.0        323864.0   \n",
       "16.0                -92178.90  27549.57    2287225.0        438912.0   \n",
       "17.0                -83502.19  25103.60    2205306.0        439324.0   \n",
       "18.0                -68213.04  20488.63    1770519.0        347378.0   \n",
       "19.0                -60003.12  17985.10    1542145.0        319986.0   \n",
       "20.0                -55749.70  16806.56    1347122.0        275791.0   \n",
       "21.0                -53354.55  15957.72    1404025.0        289957.0   \n",
       "22.0                -47745.55  14294.14    1295749.0        264498.0   \n",
       "23.0                -53592.00  16008.07    1297646.0        257399.0   \n",
       "24.0                -57048.71  16926.22    1392337.0        286027.0   \n",
       "25.0                -67601.17  20095.11    1586752.0        325735.0   \n",
       "26.0                -73966.99  21978.63    1609134.0        318908.0   \n",
       "27.0                -58379.19  17382.71    1254829.0        260728.0   \n",
       "28.0                -56307.82  16746.72    1184647.0        252998.0   \n",
       "29.0                -55065.64  16367.05    1148069.0        240771.0   \n",
       "30.0                -56862.28  16872.54    1111011.0        240608.0   \n",
       "31.0                -54687.53  16199.55    1066003.0        227214.0   \n",
       "32.0                -67491.46  20043.40    1312280.0        268433.0   \n",
       "33.0                -73417.43  21762.23    1360891.0        277305.0   \n",
       "34.0                -82129.03  24228.32    1478647.0        296480.0   \n",
       "35.0                -98266.38  28980.68    1631402.0        331534.0   \n",
       "36.0               -102813.48  30318.66    1585965.0        321823.0   \n",
       "37.0                -64141.49  18976.75     974261.0        202746.0   \n",
       "38.0                -47029.09  13928.09     720469.0        154351.0   \n",
       "39.0                -44144.21  13104.97     700262.0        152508.0   \n",
       "40.0                -36345.63  10773.91     542917.0        120234.0   \n",
       "41.0                -35351.07  10462.11     484710.0        109922.0   \n",
       "42.0                -43968.84  13007.33     640340.0        142493.0   \n",
       "43.0                -42242.84  12551.33     608594.0        137367.0   \n",
       "44.0                -42547.76  12576.38     636272.0        135060.0   \n",
       "45.0                -35182.96  10435.31     520598.0        107733.0   \n",
       "46.0                -29353.83   8734.97     434851.0         95865.0   \n",
       "47.0                -23745.66   7083.96     351010.0         76223.0   \n",
       "48.0                -21207.55   6321.60     311823.0         66682.0   \n",
       "49.0                -16116.94   4826.02     247805.0         52402.0   \n",
       "50.0                -16336.81   4894.27     243770.0         53655.0   \n",
       "51.0                 -5783.48   1745.24      88918.0         18521.0   \n",
       "52.0               -153887.77  46598.37    2366069.0        510762.0   \n",
       "\n",
       "                    population  households  median_income  median_house_value  \n",
       "housing_median_age                                                             \n",
       "1.0                     1314.0       397.0        16.0136            577200.0  \n",
       "2.0                   120817.0     42026.0       299.7304          13019603.0  \n",
       "3.0                   186110.0     65716.0       338.5360          14609902.0  \n",
       "4.0                   537314.0    191924.0       989.5086          43783911.0  \n",
       "5.0                   603017.0    205983.0      1146.2232          50853908.0  \n",
       "6.0                   346502.0    123220.0       701.3428          32607103.0  \n",
       "7.0                   457289.0    157612.0       781.2799          33826806.0  \n",
       "8.0                   415781.0    143010.0       918.6237          40049404.0  \n",
       "9.0                   386830.0    134464.0       884.8672          38267904.0  \n",
       "10.0                  452212.0    160167.0      1069.3342          46617306.0  \n",
       "11.0                  505436.0    172393.0       998.8787          45696607.0  \n",
       "12.0                  506848.0    179266.0       949.2420          43327004.0  \n",
       "13.0                  536457.0    193161.0      1253.5640          57434906.0  \n",
       "14.0                  765142.0    265373.0      1695.6028          78114007.0  \n",
       "15.0                  830622.0    297368.0      2079.9001          93085909.0  \n",
       "16.0                 1143822.0    410334.0      3310.6721         154339214.0  \n",
       "17.0                 1120882.0    403343.0      2747.2069         132965014.0  \n",
       "18.0                  916939.0    325163.0      2267.0861         110212217.0  \n",
       "19.0                  812882.0    294775.0      1887.7152          96985315.0  \n",
       "20.0                  718697.0    259715.0      1757.0574          90981814.0  \n",
       "21.0                  739376.0    269135.0      1718.0456          89269815.0  \n",
       "22.0                  692938.0    245264.0      1565.1372          83749126.0  \n",
       "23.0                  696320.0    242101.0      1769.3872          91640524.0  \n",
       "24.0                  769580.0    271248.0      1869.6693          98388221.0  \n",
       "25.0                  871352.0    306844.0      2331.8840         124754426.0  \n",
       "26.0                  889869.0    304724.0      2523.6099         129665221.0  \n",
       "27.0                  689377.0    245262.0      1880.5818         101648923.0  \n",
       "28.0                  679925.0    238525.0      1767.3394          98042826.0  \n",
       "29.0                  670398.0    229332.0      1650.5204          90922016.0  \n",
       "30.0                  672986.0    228644.0      1707.7143          95320219.0  \n",
       "31.0                  636985.0    218673.0      1652.4300          94844526.0  \n",
       "32.0                  771161.0    256677.0      2135.0755         114926730.0  \n",
       "33.0                  802187.0    267442.0      2357.0645         125231328.0  \n",
       "34.0                  849630.0    285606.0      2745.5980         147855240.0  \n",
       "35.0                  992448.0    321586.0      3224.4005         170814335.0  \n",
       "36.0                  942467.0    311736.0      3392.7959         178928739.0  \n",
       "37.0                  580008.0    196654.0      2012.4289         111352735.0  \n",
       "38.0                  433760.0    148216.0      1357.8268          76275916.0  \n",
       "39.0                  428133.0    145835.0      1268.5062          77080617.0  \n",
       "40.0                  332781.0    114540.0      1050.7304          63511219.0  \n",
       "41.0                  307853.0    104220.0       938.3370          58387117.0  \n",
       "42.0                  417648.0    138490.0      1262.7240          73148318.0  \n",
       "43.0                  375932.0    130764.0      1133.5311          68354615.0  \n",
       "44.0                  367075.0    128731.0      1247.1105          76979116.0  \n",
       "45.0                  304385.0    105708.0      1077.6398          64032618.0  \n",
       "46.0                  257693.0     91787.0       832.5437          49192309.0  \n",
       "47.0                  209883.0     73357.0       651.6012          37739008.0  \n",
       "48.0                  171854.0     63470.0       614.7494          39395210.0  \n",
       "49.0                  132552.0     50072.0       475.7663          29525008.0  \n",
       "50.0                  135861.0     50654.0       468.4233          29631713.0  \n",
       "51.0                   45183.0     18133.0       164.3351          10930504.0  \n",
       "52.0                 1189327.0    481659.0      4950.7574         350610769.0  "
      ]
     },
     "execution_count": 114,
     "metadata": {},
     "output_type": "execute_result"
    }
   ],
   "source": [
    "data_frame.groupby('housing_median_age').sum()"
   ]
  },
  {
   "cell_type": "code",
   "execution_count": 87,
   "metadata": {},
   "outputs": [
    {
     "data": {
      "text/html": [
       "<div>\n",
       "<style scoped>\n",
       "    .dataframe tbody tr th:only-of-type {\n",
       "        vertical-align: middle;\n",
       "    }\n",
       "\n",
       "    .dataframe tbody tr th {\n",
       "        vertical-align: top;\n",
       "    }\n",
       "\n",
       "    .dataframe thead th {\n",
       "        text-align: right;\n",
       "    }\n",
       "</style>\n",
       "<table border=\"1\" class=\"dataframe\">\n",
       "  <thead>\n",
       "    <tr style=\"text-align: right;\">\n",
       "      <th></th>\n",
       "      <th>longitude</th>\n",
       "      <th>latitude</th>\n",
       "      <th>housing_median_age</th>\n",
       "      <th>total_rooms</th>\n",
       "      <th>total_bedrooms</th>\n",
       "      <th>population</th>\n",
       "      <th>households</th>\n",
       "      <th>median_income</th>\n",
       "      <th>median_house_value</th>\n",
       "      <th>ocean_proximity</th>\n",
       "    </tr>\n",
       "  </thead>\n",
       "  <tbody>\n",
       "    <tr>\n",
       "      <th>1</th>\n",
       "      <td>-122.22</td>\n",
       "      <td>37.86</td>\n",
       "      <td>21.0</td>\n",
       "      <td>7099.0</td>\n",
       "      <td>1106.0</td>\n",
       "      <td>2401.0</td>\n",
       "      <td>1138.0</td>\n",
       "      <td>8.3014</td>\n",
       "      <td>358500.0</td>\n",
       "      <td>NEAR BAY</td>\n",
       "    </tr>\n",
       "    <tr>\n",
       "      <th>283</th>\n",
       "      <td>-122.16</td>\n",
       "      <td>37.79</td>\n",
       "      <td>22.0</td>\n",
       "      <td>12842.0</td>\n",
       "      <td>2048.0</td>\n",
       "      <td>4985.0</td>\n",
       "      <td>1967.0</td>\n",
       "      <td>5.9849</td>\n",
       "      <td>371000.0</td>\n",
       "      <td>NEAR BAY</td>\n",
       "    </tr>\n",
       "    <tr>\n",
       "      <th>508</th>\n",
       "      <td>-122.30</td>\n",
       "      <td>37.84</td>\n",
       "      <td>14.0</td>\n",
       "      <td>7355.0</td>\n",
       "      <td>2408.0</td>\n",
       "      <td>3100.0</td>\n",
       "      <td>2051.0</td>\n",
       "      <td>4.0018</td>\n",
       "      <td>143800.0</td>\n",
       "      <td>NEAR BAY</td>\n",
       "    </tr>\n",
       "    <tr>\n",
       "      <th>568</th>\n",
       "      <td>-122.24</td>\n",
       "      <td>37.73</td>\n",
       "      <td>21.0</td>\n",
       "      <td>7031.0</td>\n",
       "      <td>1249.0</td>\n",
       "      <td>2930.0</td>\n",
       "      <td>1235.0</td>\n",
       "      <td>4.5213</td>\n",
       "      <td>228400.0</td>\n",
       "      <td>NEAR BAY</td>\n",
       "    </tr>\n",
       "    <tr>\n",
       "      <th>570</th>\n",
       "      <td>-122.24</td>\n",
       "      <td>37.72</td>\n",
       "      <td>5.0</td>\n",
       "      <td>18634.0</td>\n",
       "      <td>2885.0</td>\n",
       "      <td>7427.0</td>\n",
       "      <td>2718.0</td>\n",
       "      <td>7.6110</td>\n",
       "      <td>350700.0</td>\n",
       "      <td>NEAR BAY</td>\n",
       "    </tr>\n",
       "    <tr>\n",
       "      <th>...</th>\n",
       "      <td>...</td>\n",
       "      <td>...</td>\n",
       "      <td>...</td>\n",
       "      <td>...</td>\n",
       "      <td>...</td>\n",
       "      <td>...</td>\n",
       "      <td>...</td>\n",
       "      <td>...</td>\n",
       "      <td>...</td>\n",
       "      <td>...</td>\n",
       "    </tr>\n",
       "    <tr>\n",
       "      <th>20530</th>\n",
       "      <td>-121.76</td>\n",
       "      <td>38.57</td>\n",
       "      <td>11.0</td>\n",
       "      <td>15018.0</td>\n",
       "      <td>3008.0</td>\n",
       "      <td>7984.0</td>\n",
       "      <td>2962.0</td>\n",
       "      <td>3.1371</td>\n",
       "      <td>201800.0</td>\n",
       "      <td>INLAND</td>\n",
       "    </tr>\n",
       "    <tr>\n",
       "      <th>20539</th>\n",
       "      <td>-121.71</td>\n",
       "      <td>38.56</td>\n",
       "      <td>20.0</td>\n",
       "      <td>8627.0</td>\n",
       "      <td>1516.0</td>\n",
       "      <td>4071.0</td>\n",
       "      <td>1466.0</td>\n",
       "      <td>4.2198</td>\n",
       "      <td>164100.0</td>\n",
       "      <td>INLAND</td>\n",
       "    </tr>\n",
       "    <tr>\n",
       "      <th>20544</th>\n",
       "      <td>-121.76</td>\n",
       "      <td>38.55</td>\n",
       "      <td>23.0</td>\n",
       "      <td>8800.0</td>\n",
       "      <td>1857.0</td>\n",
       "      <td>6330.0</td>\n",
       "      <td>1832.0</td>\n",
       "      <td>2.0650</td>\n",
       "      <td>219400.0</td>\n",
       "      <td>INLAND</td>\n",
       "    </tr>\n",
       "    <tr>\n",
       "      <th>20563</th>\n",
       "      <td>-121.75</td>\n",
       "      <td>38.67</td>\n",
       "      <td>9.0</td>\n",
       "      <td>12139.0</td>\n",
       "      <td>2640.0</td>\n",
       "      <td>6837.0</td>\n",
       "      <td>2358.0</td>\n",
       "      <td>3.1250</td>\n",
       "      <td>132500.0</td>\n",
       "      <td>INLAND</td>\n",
       "    </tr>\n",
       "    <tr>\n",
       "      <th>20629</th>\n",
       "      <td>-121.39</td>\n",
       "      <td>39.12</td>\n",
       "      <td>28.0</td>\n",
       "      <td>10035.0</td>\n",
       "      <td>1856.0</td>\n",
       "      <td>6912.0</td>\n",
       "      <td>1818.0</td>\n",
       "      <td>2.0943</td>\n",
       "      <td>108300.0</td>\n",
       "      <td>INLAND</td>\n",
       "    </tr>\n",
       "  </tbody>\n",
       "</table>\n",
       "<p>741 rows × 10 columns</p>\n",
       "</div>"
      ],
      "text/plain": [
       "       longitude  latitude  housing_median_age  total_rooms  total_bedrooms  \\\n",
       "1        -122.22     37.86                21.0       7099.0          1106.0   \n",
       "283      -122.16     37.79                22.0      12842.0          2048.0   \n",
       "508      -122.30     37.84                14.0       7355.0          2408.0   \n",
       "568      -122.24     37.73                21.0       7031.0          1249.0   \n",
       "570      -122.24     37.72                 5.0      18634.0          2885.0   \n",
       "...          ...       ...                 ...          ...             ...   \n",
       "20530    -121.76     38.57                11.0      15018.0          3008.0   \n",
       "20539    -121.71     38.56                20.0       8627.0          1516.0   \n",
       "20544    -121.76     38.55                23.0       8800.0          1857.0   \n",
       "20563    -121.75     38.67                 9.0      12139.0          2640.0   \n",
       "20629    -121.39     39.12                28.0      10035.0          1856.0   \n",
       "\n",
       "       population  households  median_income  median_house_value  \\\n",
       "1          2401.0      1138.0         8.3014            358500.0   \n",
       "283        4985.0      1967.0         5.9849            371000.0   \n",
       "508        3100.0      2051.0         4.0018            143800.0   \n",
       "568        2930.0      1235.0         4.5213            228400.0   \n",
       "570        7427.0      2718.0         7.6110            350700.0   \n",
       "...           ...         ...            ...                 ...   \n",
       "20530      7984.0      2962.0         3.1371            201800.0   \n",
       "20539      4071.0      1466.0         4.2198            164100.0   \n",
       "20544      6330.0      1832.0         2.0650            219400.0   \n",
       "20563      6837.0      2358.0         3.1250            132500.0   \n",
       "20629      6912.0      1818.0         2.0943            108300.0   \n",
       "\n",
       "      ocean_proximity  \n",
       "1            NEAR BAY  \n",
       "283          NEAR BAY  \n",
       "508          NEAR BAY  \n",
       "568          NEAR BAY  \n",
       "570          NEAR BAY  \n",
       "...               ...  \n",
       "20530          INLAND  \n",
       "20539          INLAND  \n",
       "20544          INLAND  \n",
       "20563          INLAND  \n",
       "20629          INLAND  \n",
       "\n",
       "[741 rows x 10 columns]"
      ]
     },
     "execution_count": 87,
     "metadata": {},
     "output_type": "execute_result"
    }
   ],
   "source": [
    "#Hàm location tìm data frame thõa điều khiện\n",
    "data_frame.loc[(data_frame.total_rooms>7000)]"
   ]
  },
  {
   "cell_type": "code",
   "execution_count": 26,
   "metadata": {},
   "outputs": [
    {
     "data": {
      "text/html": [
       "<div>\n",
       "<style scoped>\n",
       "    .dataframe tbody tr th:only-of-type {\n",
       "        vertical-align: middle;\n",
       "    }\n",
       "\n",
       "    .dataframe tbody tr th {\n",
       "        vertical-align: top;\n",
       "    }\n",
       "\n",
       "    .dataframe thead th {\n",
       "        text-align: right;\n",
       "    }\n",
       "</style>\n",
       "<table border=\"1\" class=\"dataframe\">\n",
       "  <thead>\n",
       "    <tr style=\"text-align: right;\">\n",
       "      <th></th>\n",
       "      <th>longitude</th>\n",
       "      <th>latitude</th>\n",
       "      <th>households</th>\n",
       "    </tr>\n",
       "  </thead>\n",
       "  <tbody>\n",
       "    <tr>\n",
       "      <th>1</th>\n",
       "      <td>-122.22</td>\n",
       "      <td>37.86</td>\n",
       "      <td>1138.0</td>\n",
       "    </tr>\n",
       "    <tr>\n",
       "      <th>283</th>\n",
       "      <td>-122.16</td>\n",
       "      <td>37.79</td>\n",
       "      <td>1967.0</td>\n",
       "    </tr>\n",
       "    <tr>\n",
       "      <th>508</th>\n",
       "      <td>-122.30</td>\n",
       "      <td>37.84</td>\n",
       "      <td>2051.0</td>\n",
       "    </tr>\n",
       "    <tr>\n",
       "      <th>568</th>\n",
       "      <td>-122.24</td>\n",
       "      <td>37.73</td>\n",
       "      <td>1235.0</td>\n",
       "    </tr>\n",
       "    <tr>\n",
       "      <th>570</th>\n",
       "      <td>-122.24</td>\n",
       "      <td>37.72</td>\n",
       "      <td>2718.0</td>\n",
       "    </tr>\n",
       "    <tr>\n",
       "      <th>...</th>\n",
       "      <td>...</td>\n",
       "      <td>...</td>\n",
       "      <td>...</td>\n",
       "    </tr>\n",
       "    <tr>\n",
       "      <th>20530</th>\n",
       "      <td>-121.76</td>\n",
       "      <td>38.57</td>\n",
       "      <td>2962.0</td>\n",
       "    </tr>\n",
       "    <tr>\n",
       "      <th>20539</th>\n",
       "      <td>-121.71</td>\n",
       "      <td>38.56</td>\n",
       "      <td>1466.0</td>\n",
       "    </tr>\n",
       "    <tr>\n",
       "      <th>20544</th>\n",
       "      <td>-121.76</td>\n",
       "      <td>38.55</td>\n",
       "      <td>1832.0</td>\n",
       "    </tr>\n",
       "    <tr>\n",
       "      <th>20563</th>\n",
       "      <td>-121.75</td>\n",
       "      <td>38.67</td>\n",
       "      <td>2358.0</td>\n",
       "    </tr>\n",
       "    <tr>\n",
       "      <th>20629</th>\n",
       "      <td>-121.39</td>\n",
       "      <td>39.12</td>\n",
       "      <td>1818.0</td>\n",
       "    </tr>\n",
       "  </tbody>\n",
       "</table>\n",
       "<p>741 rows × 3 columns</p>\n",
       "</div>"
      ],
      "text/plain": [
       "       longitude  latitude  households\n",
       "1        -122.22     37.86      1138.0\n",
       "283      -122.16     37.79      1967.0\n",
       "508      -122.30     37.84      2051.0\n",
       "568      -122.24     37.73      1235.0\n",
       "570      -122.24     37.72      2718.0\n",
       "...          ...       ...         ...\n",
       "20530    -121.76     38.57      2962.0\n",
       "20539    -121.71     38.56      1466.0\n",
       "20544    -121.76     38.55      1832.0\n",
       "20563    -121.75     38.67      2358.0\n",
       "20629    -121.39     39.12      1818.0\n",
       "\n",
       "[741 rows x 3 columns]"
      ]
     },
     "execution_count": 26,
     "metadata": {},
     "output_type": "execute_result"
    }
   ],
   "source": [
    "#Chỉ in ra các cột kinh độ, vĩ độ và nhà ở\n",
    "data_frame.loc[(data_frame.total_rooms>7000),['longitude','latitude','households']]"
   ]
  },
  {
   "cell_type": "code",
   "execution_count": 27,
   "metadata": {},
   "outputs": [
    {
     "data": {
      "text/html": [
       "<div>\n",
       "<style scoped>\n",
       "    .dataframe tbody tr th:only-of-type {\n",
       "        vertical-align: middle;\n",
       "    }\n",
       "\n",
       "    .dataframe tbody tr th {\n",
       "        vertical-align: top;\n",
       "    }\n",
       "\n",
       "    .dataframe thead th {\n",
       "        text-align: right;\n",
       "    }\n",
       "</style>\n",
       "<table border=\"1\" class=\"dataframe\">\n",
       "  <thead>\n",
       "    <tr style=\"text-align: right;\">\n",
       "      <th></th>\n",
       "      <th>longitude</th>\n",
       "      <th>latitude</th>\n",
       "      <th>housing_median_age</th>\n",
       "      <th>total_rooms</th>\n",
       "      <th>total_bedrooms</th>\n",
       "      <th>population</th>\n",
       "      <th>households</th>\n",
       "      <th>median_income</th>\n",
       "      <th>median_house_value</th>\n",
       "      <th>ocean_proximity</th>\n",
       "    </tr>\n",
       "  </thead>\n",
       "  <tbody>\n",
       "    <tr>\n",
       "      <th>9</th>\n",
       "      <td>-122.25</td>\n",
       "      <td>37.84</td>\n",
       "      <td>52.0</td>\n",
       "      <td>3549.0</td>\n",
       "      <td>707.0</td>\n",
       "      <td>1551.0</td>\n",
       "      <td>714.0</td>\n",
       "      <td>3.6912</td>\n",
       "      <td>261100.0</td>\n",
       "      <td>NEAR BAY</td>\n",
       "    </tr>\n",
       "  </tbody>\n",
       "</table>\n",
       "</div>"
      ],
      "text/plain": [
       "   longitude  latitude  housing_median_age  total_rooms  total_bedrooms  \\\n",
       "9    -122.25     37.84                52.0       3549.0           707.0   \n",
       "\n",
       "   population  households  median_income  median_house_value ocean_proximity  \n",
       "9      1551.0       714.0         3.6912            261100.0        NEAR BAY  "
      ]
     },
     "execution_count": 27,
     "metadata": {},
     "output_type": "execute_result"
    }
   ],
   "source": [
    "#Hàm index location tìm dataframe ở vị trí index\n",
    "data_frame.iloc[[9]]"
   ]
  },
  {
   "cell_type": "code",
   "execution_count": 29,
   "metadata": {},
   "outputs": [
    {
     "data": {
      "text/html": [
       "<div>\n",
       "<style scoped>\n",
       "    .dataframe tbody tr th:only-of-type {\n",
       "        vertical-align: middle;\n",
       "    }\n",
       "\n",
       "    .dataframe tbody tr th {\n",
       "        vertical-align: top;\n",
       "    }\n",
       "\n",
       "    .dataframe thead th {\n",
       "        text-align: right;\n",
       "    }\n",
       "</style>\n",
       "<table border=\"1\" class=\"dataframe\">\n",
       "  <thead>\n",
       "    <tr style=\"text-align: right;\">\n",
       "      <th></th>\n",
       "      <th>longitude</th>\n",
       "      <th>latitude</th>\n",
       "      <th>housing_median_age</th>\n",
       "      <th>total_rooms</th>\n",
       "      <th>total_bedrooms</th>\n",
       "      <th>population</th>\n",
       "      <th>households</th>\n",
       "      <th>median_income</th>\n",
       "      <th>median_house_value</th>\n",
       "      <th>ocean_proximity</th>\n",
       "    </tr>\n",
       "  </thead>\n",
       "  <tbody>\n",
       "    <tr>\n",
       "      <th>2</th>\n",
       "      <td>-122.24</td>\n",
       "      <td>37.85</td>\n",
       "      <td>52.0</td>\n",
       "      <td>1467.0</td>\n",
       "      <td>190.0</td>\n",
       "      <td>496.0</td>\n",
       "      <td>177.0</td>\n",
       "      <td>7.2574</td>\n",
       "      <td>352100.0</td>\n",
       "      <td>NEAR BAY</td>\n",
       "    </tr>\n",
       "    <tr>\n",
       "      <th>3</th>\n",
       "      <td>-122.25</td>\n",
       "      <td>37.85</td>\n",
       "      <td>52.0</td>\n",
       "      <td>1274.0</td>\n",
       "      <td>235.0</td>\n",
       "      <td>558.0</td>\n",
       "      <td>219.0</td>\n",
       "      <td>5.6431</td>\n",
       "      <td>341300.0</td>\n",
       "      <td>NEAR BAY</td>\n",
       "    </tr>\n",
       "    <tr>\n",
       "      <th>4</th>\n",
       "      <td>-122.25</td>\n",
       "      <td>37.85</td>\n",
       "      <td>52.0</td>\n",
       "      <td>1627.0</td>\n",
       "      <td>280.0</td>\n",
       "      <td>565.0</td>\n",
       "      <td>259.0</td>\n",
       "      <td>3.8462</td>\n",
       "      <td>342200.0</td>\n",
       "      <td>NEAR BAY</td>\n",
       "    </tr>\n",
       "  </tbody>\n",
       "</table>\n",
       "</div>"
      ],
      "text/plain": [
       "   longitude  latitude  housing_median_age  total_rooms  total_bedrooms  \\\n",
       "2    -122.24     37.85                52.0       1467.0           190.0   \n",
       "3    -122.25     37.85                52.0       1274.0           235.0   \n",
       "4    -122.25     37.85                52.0       1627.0           280.0   \n",
       "\n",
       "   population  households  median_income  median_house_value ocean_proximity  \n",
       "2       496.0       177.0         7.2574            352100.0        NEAR BAY  \n",
       "3       558.0       219.0         5.6431            341300.0        NEAR BAY  \n",
       "4       565.0       259.0         3.8462            342200.0        NEAR BAY  "
      ]
     },
     "execution_count": 29,
     "metadata": {},
     "output_type": "execute_result"
    }
   ],
   "source": [
    "#Tìm từ vị trí thứ m đến n\n",
    "data_frame.iloc[2:5]"
   ]
  },
  {
   "cell_type": "code",
   "execution_count": 31,
   "metadata": {},
   "outputs": [
    {
     "data": {
      "text/plain": [
       "2    NEAR BAY\n",
       "3    NEAR BAY\n",
       "4    NEAR BAY\n",
       "Name: ocean_proximity, dtype: object"
      ]
     },
     "execution_count": 31,
     "metadata": {},
     "output_type": "execute_result"
    }
   ],
   "source": [
    "#Chỉ lấy data_frame cuối \n",
    "data_frame.iloc[2:5,-1]"
   ]
  },
  {
   "cell_type": "code",
   "execution_count": null,
   "metadata": {},
   "outputs": [],
   "source": [
    "#Chỉnh sửa data_frame"
   ]
  },
  {
   "cell_type": "code",
   "execution_count": null,
   "metadata": {},
   "outputs": [],
   "source": []
  }
 ],
 "metadata": {
  "kernelspec": {
   "display_name": "Python 3",
   "language": "python",
   "name": "python3"
  },
  "language_info": {
   "codemirror_mode": {
    "name": "ipython",
    "version": 3
   },
   "file_extension": ".py",
   "mimetype": "text/x-python",
   "name": "python",
   "nbconvert_exporter": "python",
   "pygments_lexer": "ipython3",
   "version": "3.7.0"
  }
 },
 "nbformat": 4,
 "nbformat_minor": 2
}
