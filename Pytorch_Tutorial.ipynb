{
 "cells": [
  {
   "cell_type": "code",
   "execution_count": 1,
   "id": "6cf5a83b",
   "metadata": {},
   "outputs": [],
   "source": [
    "import torch"
   ]
  },
  {
   "cell_type": "code",
   "execution_count": 2,
   "id": "b7abde8c",
   "metadata": {},
   "outputs": [],
   "source": [
    "x=torch.empty(5,3)"
   ]
  },
  {
   "cell_type": "code",
   "execution_count": 3,
   "id": "088ca253",
   "metadata": {},
   "outputs": [
    {
     "data": {
      "text/plain": [
       "tensor([[9.2755e-39, 9.1837e-39, 9.3674e-39],\n",
       "        [1.0745e-38, 1.0653e-38, 9.5510e-39],\n",
       "        [1.0561e-38, 1.0194e-38, 1.1112e-38],\n",
       "        [1.0561e-38, 9.9184e-39, 1.0653e-38],\n",
       "        [4.1327e-39, 8.9082e-39, 1.5134e-43]])"
      ]
     },
     "execution_count": 3,
     "metadata": {},
     "output_type": "execute_result"
    }
   ],
   "source": [
    "x"
   ]
  },
  {
   "cell_type": "code",
   "execution_count": 6,
   "id": "95bd97bc",
   "metadata": {},
   "outputs": [
    {
     "data": {
      "text/plain": [
       "tensor([[0.3570, 0.1848, 0.1957],\n",
       "        [0.9670, 0.2943, 0.1987],\n",
       "        [0.1342, 0.3633, 0.6055],\n",
       "        [0.9576, 0.0848, 0.5214],\n",
       "        [0.7769, 0.8846, 0.5374]])"
      ]
     },
     "execution_count": 6,
     "metadata": {},
     "output_type": "execute_result"
    }
   ],
   "source": [
    "x=torch.rand(5,3)\n",
    "x"
   ]
  },
  {
   "cell_type": "code",
   "execution_count": 8,
   "id": "92fb45d2",
   "metadata": {},
   "outputs": [
    {
     "data": {
      "text/plain": [
       "tensor([[0, 0, 0],\n",
       "        [0, 0, 0],\n",
       "        [0, 0, 0],\n",
       "        [0, 0, 0],\n",
       "        [0, 0, 0]])"
      ]
     },
     "execution_count": 8,
     "metadata": {},
     "output_type": "execute_result"
    }
   ],
   "source": [
    "x=torch.zeros(5,3,dtype=torch.long)\n",
    "x"
   ]
  },
  {
   "cell_type": "code",
   "execution_count": 9,
   "id": "72653129",
   "metadata": {},
   "outputs": [
    {
     "data": {
      "text/plain": [
       "tensor([[5.9694e-39, 7.8061e-39, 8.4490e-39],\n",
       "        [9.6428e-39, 1.1112e-38, 9.5511e-39],\n",
       "        [1.0102e-38, 1.0286e-38, 1.0194e-38],\n",
       "        [9.6429e-39, 9.2755e-39, 9.1837e-39],\n",
       "        [9.3674e-39, 1.0745e-38, 1.0653e-38]])"
      ]
     },
     "execution_count": 9,
     "metadata": {},
     "output_type": "execute_result"
    }
   ],
   "source": [
    "x=torch.Tensor(5,3)\n",
    "x"
   ]
  },
  {
   "cell_type": "code",
   "execution_count": 10,
   "id": "38247d73",
   "metadata": {},
   "outputs": [
    {
     "data": {
      "text/plain": [
       "tensor([5.5000, 3.3000])"
      ]
     },
     "execution_count": 10,
     "metadata": {},
     "output_type": "execute_result"
    }
   ],
   "source": [
    "x=torch.Tensor([5.5,3.3])\n",
    "x"
   ]
  },
  {
   "cell_type": "code",
   "execution_count": 11,
   "id": "6f3134f5",
   "metadata": {},
   "outputs": [
    {
     "data": {
      "text/plain": [
       "tensor([[1., 1., 1.],\n",
       "        [1., 1., 1.],\n",
       "        [1., 1., 1.],\n",
       "        [1., 1., 1.],\n",
       "        [1., 1., 1.]])"
      ]
     },
     "execution_count": 11,
     "metadata": {},
     "output_type": "execute_result"
    }
   ],
   "source": [
    "x = torch.ones(5,3)\n",
    "x"
   ]
  },
  {
   "cell_type": "code",
   "execution_count": 13,
   "id": "87d5c7ba",
   "metadata": {},
   "outputs": [
    {
     "data": {
      "text/plain": [
       "tensor([[-1.1665,  0.3980, -1.4134],\n",
       "        [ 0.1884, -0.6712, -0.2134],\n",
       "        [-1.2115, -0.0496,  0.9520],\n",
       "        [ 0.9431,  1.3738, -0.4382],\n",
       "        [ 0.3023, -0.0373, -1.9609]], dtype=torch.float64)"
      ]
     },
     "execution_count": 13,
     "metadata": {},
     "output_type": "execute_result"
    }
   ],
   "source": [
    "y = torch.randn_like(x, dtype=torch.double)\n",
    "y"
   ]
  },
  {
   "cell_type": "code",
   "execution_count": 14,
   "id": "24a1bee4",
   "metadata": {},
   "outputs": [
    {
     "data": {
      "text/plain": [
       "torch.Size([5, 3])"
      ]
     },
     "execution_count": 14,
     "metadata": {},
     "output_type": "execute_result"
    }
   ],
   "source": [
    "y.shape"
   ]
  },
  {
   "cell_type": "code",
   "execution_count": 16,
   "id": "0cc905c2",
   "metadata": {},
   "outputs": [
    {
     "data": {
      "text/plain": [
       "torch.Size([5, 3])"
      ]
     },
     "execution_count": 16,
     "metadata": {},
     "output_type": "execute_result"
    }
   ],
   "source": [
    "y.size()"
   ]
  },
  {
   "cell_type": "code",
   "execution_count": 17,
   "id": "1a4de3da",
   "metadata": {},
   "outputs": [
    {
     "data": {
      "text/plain": [
       "tensor([[1., 1., 1.],\n",
       "        [1., 1., 1.],\n",
       "        [1., 1., 1.],\n",
       "        [1., 1., 1.],\n",
       "        [1., 1., 1.]])"
      ]
     },
     "execution_count": 17,
     "metadata": {},
     "output_type": "execute_result"
    }
   ],
   "source": [
    "x "
   ]
  },
  {
   "cell_type": "code",
   "execution_count": 18,
   "id": "ef5690a0",
   "metadata": {},
   "outputs": [
    {
     "data": {
      "text/plain": [
       "tensor([[0.9750, 0.6761, 0.9063],\n",
       "        [0.2208, 0.8154, 0.3412],\n",
       "        [0.9820, 0.3141, 0.2546],\n",
       "        [0.6962, 0.1326, 0.9753],\n",
       "        [0.9575, 0.4670, 0.5335]])"
      ]
     },
     "execution_count": 18,
     "metadata": {},
     "output_type": "execute_result"
    }
   ],
   "source": [
    "y= torch.rand(5,3)\n",
    "y"
   ]
  },
  {
   "cell_type": "code",
   "execution_count": 19,
   "id": "04952c7b",
   "metadata": {},
   "outputs": [
    {
     "data": {
      "text/plain": [
       "tensor([[1.9750, 1.6761, 1.9063],\n",
       "        [1.2208, 1.8154, 1.3412],\n",
       "        [1.9820, 1.3141, 1.2546],\n",
       "        [1.6962, 1.1326, 1.9753],\n",
       "        [1.9575, 1.4670, 1.5335]])"
      ]
     },
     "execution_count": 19,
     "metadata": {},
     "output_type": "execute_result"
    }
   ],
   "source": [
    "z=x+y\n",
    "z"
   ]
  },
  {
   "cell_type": "code",
   "execution_count": 22,
   "id": "4cb22f65",
   "metadata": {},
   "outputs": [
    {
     "data": {
      "text/plain": [
       "tensor([[1.9750, 1.6761, 1.9063],\n",
       "        [1.2208, 1.8154, 1.3412],\n",
       "        [1.9820, 1.3141, 1.2546],\n",
       "        [1.6962, 1.1326, 1.9753],\n",
       "        [1.9575, 1.4670, 1.5335]])"
      ]
     },
     "execution_count": 22,
     "metadata": {},
     "output_type": "execute_result"
    }
   ],
   "source": [
    "z = torch.add(x,y)\n",
    "z"
   ]
  },
  {
   "cell_type": "code",
   "execution_count": 23,
   "id": "b07b4324",
   "metadata": {},
   "outputs": [
    {
     "data": {
      "text/plain": [
       "tensor([[1.9750, 1.6761, 1.9063],\n",
       "        [1.2208, 1.8154, 1.3412],\n",
       "        [1.9820, 1.3141, 1.2546],\n",
       "        [1.6962, 1.1326, 1.9753],\n",
       "        [1.9575, 1.4670, 1.5335]])"
      ]
     },
     "execution_count": 23,
     "metadata": {},
     "output_type": "execute_result"
    }
   ],
   "source": [
    "y.add_(x)\n",
    "y"
   ]
  },
  {
   "cell_type": "code",
   "execution_count": 24,
   "id": "02bd2d23",
   "metadata": {},
   "outputs": [],
   "source": [
    "a = torch.rand(4,4)"
   ]
  },
  {
   "cell_type": "code",
   "execution_count": 25,
   "id": "2235a457",
   "metadata": {},
   "outputs": [],
   "source": [
    "b= torch.rand(4,4)"
   ]
  },
  {
   "cell_type": "code",
   "execution_count": 26,
   "id": "8ca0439c",
   "metadata": {},
   "outputs": [
    {
     "data": {
      "text/plain": [
       "tensor([[1.1138, 1.4094, 0.8237, 1.1796],\n",
       "        [1.0813, 1.1158, 0.8887, 1.1331],\n",
       "        [1.0045, 0.7018, 1.3939, 0.8424],\n",
       "        [1.1018, 0.2648, 1.3415, 0.8343]])"
      ]
     },
     "execution_count": 26,
     "metadata": {},
     "output_type": "execute_result"
    }
   ],
   "source": [
    "# c=a+b\n",
    "c=torch.empty(4,4)\n",
    "torch.add(a,b,out=c)"
   ]
  },
  {
   "cell_type": "code",
   "execution_count": 28,
   "id": "665133f7",
   "metadata": {},
   "outputs": [
    {
     "data": {
      "text/plain": [
       "tensor([[0.7556, 0.6275, 0.2631, 0.5319],\n",
       "        [0.4264, 0.2852, 0.4859, 0.5345],\n",
       "        [0.3696, 0.4878, 0.6210, 0.0833],\n",
       "        [0.8797, 0.2128, 0.4824, 0.6456]])"
      ]
     },
     "execution_count": 28,
     "metadata": {},
     "output_type": "execute_result"
    }
   ],
   "source": [
    "a"
   ]
  },
  {
   "cell_type": "code",
   "execution_count": 30,
   "id": "4e9b8e0f",
   "metadata": {},
   "outputs": [
    {
     "data": {
      "text/plain": [
       "tensor([0.6275, 0.2852, 0.4878, 0.2128])"
      ]
     },
     "execution_count": 30,
     "metadata": {},
     "output_type": "execute_result"
    }
   ],
   "source": [
    "a[:,1]"
   ]
  },
  {
   "cell_type": "code",
   "execution_count": 31,
   "id": "40119146",
   "metadata": {},
   "outputs": [
    {
     "data": {
      "text/plain": [
       "tensor([0.6275, 0.2852])"
      ]
     },
     "execution_count": 31,
     "metadata": {},
     "output_type": "execute_result"
    }
   ],
   "source": [
    "a[0:2,1]"
   ]
  },
  {
   "cell_type": "code",
   "execution_count": 33,
   "id": "d036a327",
   "metadata": {},
   "outputs": [
    {
     "data": {
      "text/plain": [
       "tensor([[0.9265, 0.3109, 0.4534, 0.9793],\n",
       "        [0.3453, 0.4443, 0.9548, 0.4507],\n",
       "        [0.5892, 0.3274, 0.8292, 0.8403],\n",
       "        [0.6110, 0.6023, 0.8839, 0.7363]])"
      ]
     },
     "execution_count": 33,
     "metadata": {},
     "output_type": "execute_result"
    }
   ],
   "source": [
    "x=torch.rand(4,4)\n",
    "x"
   ]
  },
  {
   "cell_type": "code",
   "execution_count": 34,
   "id": "2152f6b9",
   "metadata": {},
   "outputs": [
    {
     "data": {
      "text/plain": [
       "torch.Size([4, 4])"
      ]
     },
     "execution_count": 34,
     "metadata": {},
     "output_type": "execute_result"
    }
   ],
   "source": [
    "x.shape"
   ]
  },
  {
   "cell_type": "code",
   "execution_count": 36,
   "id": "ceee999e",
   "metadata": {},
   "outputs": [
    {
     "data": {
      "text/plain": [
       "tensor([0.9265, 0.3109, 0.4534, 0.9793, 0.3453, 0.4443, 0.9548, 0.4507, 0.5892,\n",
       "        0.3274, 0.8292, 0.8403, 0.6110, 0.6023, 0.8839, 0.7363])"
      ]
     },
     "execution_count": 36,
     "metadata": {},
     "output_type": "execute_result"
    }
   ],
   "source": [
    "y=x.view(16)\n",
    "y"
   ]
  },
  {
   "cell_type": "code",
   "execution_count": 37,
   "id": "c0c429f2",
   "metadata": {},
   "outputs": [
    {
     "data": {
      "text/plain": [
       "torch.Size([16])"
      ]
     },
     "execution_count": 37,
     "metadata": {},
     "output_type": "execute_result"
    }
   ],
   "source": [
    "y.shape"
   ]
  },
  {
   "cell_type": "code",
   "execution_count": 39,
   "id": "904655f1",
   "metadata": {},
   "outputs": [
    {
     "data": {
      "text/plain": [
       "tensor([[0.9265, 0.3109, 0.4534, 0.9793, 0.3453, 0.4443, 0.9548, 0.4507],\n",
       "        [0.5892, 0.3274, 0.8292, 0.8403, 0.6110, 0.6023, 0.8839, 0.7363]])"
      ]
     },
     "execution_count": 39,
     "metadata": {},
     "output_type": "execute_result"
    }
   ],
   "source": [
    "y=x.view(-1,8)\n",
    "y"
   ]
  },
  {
   "cell_type": "code",
   "execution_count": 40,
   "id": "3db0a29a",
   "metadata": {},
   "outputs": [],
   "source": [
    "x=torch.randn(1)"
   ]
  },
  {
   "cell_type": "code",
   "execution_count": 41,
   "id": "5fa6ca90",
   "metadata": {},
   "outputs": [
    {
     "data": {
      "text/plain": [
       "tensor([-0.1283])"
      ]
     },
     "execution_count": 41,
     "metadata": {},
     "output_type": "execute_result"
    }
   ],
   "source": [
    "x"
   ]
  },
  {
   "cell_type": "code",
   "execution_count": 42,
   "id": "87f09a65",
   "metadata": {},
   "outputs": [
    {
     "data": {
      "text/plain": [
       "-0.12828855216503143"
      ]
     },
     "execution_count": 42,
     "metadata": {},
     "output_type": "execute_result"
    }
   ],
   "source": [
    "x.item()"
   ]
  },
  {
   "cell_type": "code",
   "execution_count": 43,
   "id": "0c3ba54d",
   "metadata": {},
   "outputs": [
    {
     "data": {
      "text/plain": [
       "tensor([[0.4888, 0.3066, 0.4381],\n",
       "        [0.7001, 0.1860, 0.2107],\n",
       "        [0.3332, 0.9803, 0.4099]])"
      ]
     },
     "execution_count": 43,
     "metadata": {},
     "output_type": "execute_result"
    }
   ],
   "source": [
    "x = torch.rand(3,3)\n",
    "x"
   ]
  },
  {
   "cell_type": "code",
   "execution_count": 44,
   "id": "940e998c",
   "metadata": {},
   "outputs": [
    {
     "data": {
      "text/plain": [
       "tensor(0.4888)"
      ]
     },
     "execution_count": 44,
     "metadata": {},
     "output_type": "execute_result"
    }
   ],
   "source": [
    "x[0,0]"
   ]
  },
  {
   "cell_type": "code",
   "execution_count": 45,
   "id": "edaa97b9",
   "metadata": {},
   "outputs": [],
   "source": [
    "y = x[0,0]"
   ]
  },
  {
   "cell_type": "code",
   "execution_count": 46,
   "id": "c2901253",
   "metadata": {},
   "outputs": [
    {
     "data": {
      "text/plain": [
       "tensor(0.4888)"
      ]
     },
     "execution_count": 46,
     "metadata": {},
     "output_type": "execute_result"
    }
   ],
   "source": [
    "y"
   ]
  },
  {
   "cell_type": "code",
   "execution_count": 47,
   "id": "bce6b13f",
   "metadata": {},
   "outputs": [
    {
     "data": {
      "text/plain": [
       "0.48875677585601807"
      ]
     },
     "execution_count": 47,
     "metadata": {},
     "output_type": "execute_result"
    }
   ],
   "source": [
    "y.item()"
   ]
  },
  {
   "cell_type": "code",
   "execution_count": 49,
   "id": "632f24fd",
   "metadata": {},
   "outputs": [
    {
     "data": {
      "text/plain": [
       "array([[0.48875678, 0.30655533, 0.43807507],\n",
       "       [0.7000566 , 0.18599236, 0.21072793],\n",
       "       [0.3331653 , 0.98028064, 0.40993774]], dtype=float32)"
      ]
     },
     "execution_count": 49,
     "metadata": {},
     "output_type": "execute_result"
    }
   ],
   "source": [
    "y=x.numpy()\n",
    "y"
   ]
  },
  {
   "cell_type": "code",
   "execution_count": 50,
   "id": "c59c2f2a",
   "metadata": {},
   "outputs": [
    {
     "data": {
      "text/plain": [
       "0.48875678"
      ]
     },
     "execution_count": 50,
     "metadata": {},
     "output_type": "execute_result"
    }
   ],
   "source": [
    "y[0,0]"
   ]
  },
  {
   "cell_type": "code",
   "execution_count": 51,
   "id": "bf122b27",
   "metadata": {},
   "outputs": [],
   "source": [
    "import numpy as np"
   ]
  },
  {
   "cell_type": "code",
   "execution_count": 52,
   "id": "deef8521",
   "metadata": {},
   "outputs": [],
   "source": [
    "a=np.ones(3)"
   ]
  },
  {
   "cell_type": "code",
   "execution_count": 53,
   "id": "9baeb6d2",
   "metadata": {},
   "outputs": [
    {
     "data": {
      "text/plain": [
       "array([1., 1., 1.])"
      ]
     },
     "execution_count": 53,
     "metadata": {},
     "output_type": "execute_result"
    }
   ],
   "source": [
    "a"
   ]
  },
  {
   "cell_type": "code",
   "execution_count": 54,
   "id": "3f08cf51",
   "metadata": {},
   "outputs": [
    {
     "data": {
      "text/plain": [
       "tensor([1., 1., 1.], dtype=torch.float64)"
      ]
     },
     "execution_count": 54,
     "metadata": {},
     "output_type": "execute_result"
    }
   ],
   "source": [
    "b=torch.from_numpy(a)\n",
    "b"
   ]
  },
  {
   "cell_type": "code",
   "execution_count": 55,
   "id": "84976abb",
   "metadata": {},
   "outputs": [
    {
     "data": {
      "text/plain": [
       "True"
      ]
     },
     "execution_count": 55,
     "metadata": {},
     "output_type": "execute_result"
    }
   ],
   "source": [
    "device=torch.cuda.is_available()\n",
    "device"
   ]
  },
  {
   "cell_type": "code",
   "execution_count": 56,
   "id": "e11f153c",
   "metadata": {},
   "outputs": [
    {
     "name": "stdout",
     "output_type": "stream",
     "text": [
      "tensor([[1.4888, 1.3066, 1.4381],\n",
      "        [1.7001, 1.1860, 1.2107],\n",
      "        [1.3332, 1.9803, 1.4099]], device='cuda:0')\n"
     ]
    }
   ],
   "source": [
    "if torch.cuda.is_available():\n",
    "    device = torch.device('cuda')\n",
    "    y = torch.ones_like(x, device=device)\n",
    "    x = x.to(device)\n",
    "    z = x+y\n",
    "    print(z)"
   ]
  },
  {
   "cell_type": "code",
   "execution_count": 57,
   "id": "9aa284cb",
   "metadata": {},
   "outputs": [],
   "source": [
    "x = torch.tensor(2.0, requires_grad=True) # Lưu thông tin lại"
   ]
  },
  {
   "cell_type": "code",
   "execution_count": 58,
   "id": "9360f5a2",
   "metadata": {},
   "outputs": [
    {
     "data": {
      "text/plain": [
       "tensor(2., requires_grad=True)"
      ]
     },
     "execution_count": 58,
     "metadata": {},
     "output_type": "execute_result"
    }
   ],
   "source": [
    "x"
   ]
  },
  {
   "cell_type": "code",
   "execution_count": 59,
   "id": "a685e417",
   "metadata": {},
   "outputs": [
    {
     "data": {
      "text/plain": [
       "tensor(7.3891, grad_fn=<ExpBackward0>)"
      ]
     },
     "execution_count": 59,
     "metadata": {},
     "output_type": "execute_result"
    }
   ],
   "source": [
    "y= torch.exp(x)\n",
    "y"
   ]
  },
  {
   "cell_type": "code",
   "execution_count": 60,
   "id": "44caf017",
   "metadata": {},
   "outputs": [],
   "source": [
    "y.backward()"
   ]
  },
  {
   "cell_type": "code",
   "execution_count": 61,
   "id": "2aeadcde",
   "metadata": {},
   "outputs": [
    {
     "data": {
      "text/plain": [
       "tensor(7.3891)"
      ]
     },
     "execution_count": 61,
     "metadata": {},
     "output_type": "execute_result"
    }
   ],
   "source": [
    "x.grad"
   ]
  },
  {
   "cell_type": "code",
   "execution_count": 63,
   "id": "7ef5917d",
   "metadata": {},
   "outputs": [],
   "source": [
    "# y = e^x\n",
    "# d(y)/d(x) = e^x = e^2 \n",
    "\n",
    "# torch.Tensor\n",
    "# requires_grad: Lưu thông tin gradients\n",
    "# grad_fn: Lưu thông tin hàm số  đã được sử dụng của tensor\n",
    "# backward(): Hàm đạo hàm\n",
    "# grad: lưu các thông tin đạo hàm"
   ]
  },
  {
   "cell_type": "markdown",
   "id": "b1a8025c",
   "metadata": {},
   "source": [
    "# Module Functional"
   ]
  },
  {
   "cell_type": "code",
   "execution_count": 71,
   "id": "51ed3cc2",
   "metadata": {},
   "outputs": [],
   "source": [
    "import torch.nn as nn\n",
    "import torch.nn.functional as F\n",
    "\n",
    "class Net(nn.Module):\n",
    "    def __init__(self):\n",
    "        super(Net,self).__init__()\n",
    "        self.conv1 = nn.Conv2d(1,6,3) # (input, output, stride)\n",
    "        self.conv2 = nn.Conv2d(6,16,3)\n",
    "        self.fc1 = nn.Linear(16*6*6, 120)\n",
    "        self.fc2 = nn.Linear(120, 84)\n",
    "        self.fc3 = nn.Linear(84,10)\n",
    "    \n",
    "    def forward(self,x):\n",
    "        x = self.conv1(x)\n",
    "        x = F.relu(x)\n",
    "        x = F.max_pool2d(x, (2,2))\n",
    "        \n",
    "        x = self.conv2(x)\n",
    "        x = F.relu(x)\n",
    "        x = F.max_pool2d(x, 2)\n",
    "        \n",
    "        x = x.view(-1, self.num_flat_features(x))\n",
    "        \n",
    "        x = F.relu(self.fc1(x))\n",
    "        x = F.relu(self.fc2(x))\n",
    "        x = F.relu(self.fc3(x))\n",
    "        \n",
    "        return x\n",
    "    \n",
    "    def num_flat_features(self,x):\n",
    "        size = x.size()[1:]\n",
    "        num_features = 1\n",
    "        for s in size:\n",
    "            num_features *= s\n",
    "        return num_features"
   ]
  },
  {
   "cell_type": "code",
   "execution_count": 72,
   "id": "57b32044",
   "metadata": {},
   "outputs": [
    {
     "name": "stdout",
     "output_type": "stream",
     "text": [
      "Net(\n",
      "  (conv1): Conv2d(1, 6, kernel_size=(3, 3), stride=(1, 1))\n",
      "  (conv2): Conv2d(6, 16, kernel_size=(3, 3), stride=(1, 1))\n",
      "  (fc1): Linear(in_features=576, out_features=120, bias=True)\n",
      "  (fc2): Linear(in_features=120, out_features=84, bias=True)\n",
      "  (fc3): Linear(in_features=84, out_features=10, bias=True)\n",
      ")\n"
     ]
    }
   ],
   "source": [
    "net=Net()\n",
    "print(net)"
   ]
  },
  {
   "cell_type": "code",
   "execution_count": 73,
   "id": "791b9dff",
   "metadata": {},
   "outputs": [],
   "source": [
    "input_image = torch.rand(1,1,32,32)\n",
    "output= net(input_image)"
   ]
  },
  {
   "cell_type": "code",
   "execution_count": 74,
   "id": "dae95044",
   "metadata": {},
   "outputs": [
    {
     "data": {
      "text/plain": [
       "torch.Size([1, 10])"
      ]
     },
     "execution_count": 74,
     "metadata": {},
     "output_type": "execute_result"
    }
   ],
   "source": [
    "output.size()"
   ]
  },
  {
   "cell_type": "markdown",
   "id": "ea77630f",
   "metadata": {},
   "source": [
    "#  Module Sequential()"
   ]
  },
  {
   "cell_type": "code",
   "execution_count": 1,
   "id": "188dfe0d",
   "metadata": {},
   "outputs": [],
   "source": [
    "import torch\n",
    "import torch.nn as nn"
   ]
  },
  {
   "cell_type": "code",
   "execution_count": 2,
   "id": "22ccb872",
   "metadata": {},
   "outputs": [],
   "source": [
    "class Flatten(nn.Module):\n",
    "    def forward(self, x):\n",
    "        size = x.size()[1:]\n",
    "        num_features = 1\n",
    "        for s in size:\n",
    "            num_features *=s\n",
    "        return x.view(-1,num_features)   "
   ]
  },
  {
   "cell_type": "code",
   "execution_count": 11,
   "id": "4e916b3a",
   "metadata": {},
   "outputs": [],
   "source": [
    "net=nn.Sequential()\n",
    "net.add_module(\"Conv1\",nn.Conv2d(1,6,3))\n",
    "net.add_module(\"ReLU\",nn.ReLU())\n",
    "net.add_module('Maxpooling1',nn.MaxPool2d(2))\n",
    "\n",
    "net.add_module(\"Conv2\",nn.Conv2d(6,16,3))\n",
    "net.add_module('ReLu2',nn.ReLU())\n",
    "net.add_module('Maxpooling2',nn.MaxPool2d(2))\n",
    "net.add_module('Flatten', Flatten())\n",
    "\n",
    "net.add_module('Fc1',nn.Linear(16*6*6,120))\n",
    "net.add_module('Fc2',nn.Linear(120,84))\n",
    "net.add_module('Fc3',nn.Linear(84,10))"
   ]
  },
  {
   "cell_type": "code",
   "execution_count": 12,
   "id": "17893cbe",
   "metadata": {},
   "outputs": [
    {
     "name": "stdout",
     "output_type": "stream",
     "text": [
      "Sequential(\n",
      "  (Conv1): Conv2d(1, 6, kernel_size=(3, 3), stride=(1, 1))\n",
      "  (ReLU): ReLU()\n",
      "  (Maxpooling1): MaxPool2d(kernel_size=2, stride=2, padding=0, dilation=1, ceil_mode=False)\n",
      "  (Conv2): Conv2d(6, 16, kernel_size=(3, 3), stride=(1, 1))\n",
      "  (ReLu2): ReLU()\n",
      "  (Maxpooling2): MaxPool2d(kernel_size=2, stride=2, padding=0, dilation=1, ceil_mode=False)\n",
      "  (Flatten): Flatten()\n",
      "  (Fc1): Linear(in_features=576, out_features=120, bias=True)\n",
      "  (Fc2): Linear(in_features=120, out_features=84, bias=True)\n",
      "  (Fc3): Linear(in_features=84, out_features=10, bias=True)\n",
      ")\n"
     ]
    }
   ],
   "source": [
    "print(net)"
   ]
  },
  {
   "cell_type": "code",
   "execution_count": 13,
   "id": "3cf952c7",
   "metadata": {},
   "outputs": [],
   "source": [
    "in_put=torch.rand(1,1,32,32)"
   ]
  },
  {
   "cell_type": "code",
   "execution_count": 14,
   "id": "3440eb58",
   "metadata": {},
   "outputs": [],
   "source": [
    "output=net(in_put)"
   ]
  },
  {
   "cell_type": "code",
   "execution_count": 15,
   "id": "b6ab89cd",
   "metadata": {},
   "outputs": [
    {
     "data": {
      "text/plain": [
       "torch.Size([1, 10])"
      ]
     },
     "execution_count": 15,
     "metadata": {},
     "output_type": "execute_result"
    }
   ],
   "source": [
    "output.shape"
   ]
  },
  {
   "cell_type": "code",
   "execution_count": 1,
   "id": "3da3b559",
   "metadata": {},
   "outputs": [],
   "source": [
    "import torch\n",
    "import numpy as sp\n",
    "import torchvision\n",
    "from torchvision import models, transforms\n",
    "from PIL import Image\n",
    "import matplotlib.pyplot as plt"
   ]
  },
  {
   "cell_type": "code",
   "execution_count": 2,
   "id": "9096c5ad",
   "metadata": {},
   "outputs": [
    {
     "data": {
      "text/plain": [
       "'0.13.1'"
      ]
     },
     "execution_count": 2,
     "metadata": {},
     "output_type": "execute_result"
    }
   ],
   "source": [
    "torchvision.__version__"
   ]
  },
  {
   "cell_type": "code",
   "execution_count": 3,
   "id": "4fcd565e",
   "metadata": {},
   "outputs": [
    {
     "name": "stderr",
     "output_type": "stream",
     "text": [
      "C:\\Users\\ASUS\\anaconda3\\lib\\site-packages\\torchvision\\models\\_utils.py:208: UserWarning: The parameter 'pretrained' is deprecated since 0.13 and will be removed in 0.15, please use 'weights' instead.\n",
      "  warnings.warn(\n",
      "C:\\Users\\ASUS\\anaconda3\\lib\\site-packages\\torchvision\\models\\_utils.py:223: UserWarning: Arguments other than a weight enum or `None` for 'weights' are deprecated since 0.13 and will be removed in 0.15. The current behavior is equivalent to passing `weights=VGG16_Weights.IMAGENET1K_V1`. You can also use `weights=VGG16_Weights.DEFAULT` to get the most up-to-date weights.\n",
      "  warnings.warn(msg)\n"
     ]
    },
    {
     "name": "stdout",
     "output_type": "stream",
     "text": [
      "VGG(\n",
      "  (features): Sequential(\n",
      "    (0): Conv2d(3, 64, kernel_size=(3, 3), stride=(1, 1), padding=(1, 1))\n",
      "    (1): ReLU(inplace=True)\n",
      "    (2): Conv2d(64, 64, kernel_size=(3, 3), stride=(1, 1), padding=(1, 1))\n",
      "    (3): ReLU(inplace=True)\n",
      "    (4): MaxPool2d(kernel_size=2, stride=2, padding=0, dilation=1, ceil_mode=False)\n",
      "    (5): Conv2d(64, 128, kernel_size=(3, 3), stride=(1, 1), padding=(1, 1))\n",
      "    (6): ReLU(inplace=True)\n",
      "    (7): Conv2d(128, 128, kernel_size=(3, 3), stride=(1, 1), padding=(1, 1))\n",
      "    (8): ReLU(inplace=True)\n",
      "    (9): MaxPool2d(kernel_size=2, stride=2, padding=0, dilation=1, ceil_mode=False)\n",
      "    (10): Conv2d(128, 256, kernel_size=(3, 3), stride=(1, 1), padding=(1, 1))\n",
      "    (11): ReLU(inplace=True)\n",
      "    (12): Conv2d(256, 256, kernel_size=(3, 3), stride=(1, 1), padding=(1, 1))\n",
      "    (13): ReLU(inplace=True)\n",
      "    (14): Conv2d(256, 256, kernel_size=(3, 3), stride=(1, 1), padding=(1, 1))\n",
      "    (15): ReLU(inplace=True)\n",
      "    (16): MaxPool2d(kernel_size=2, stride=2, padding=0, dilation=1, ceil_mode=False)\n",
      "    (17): Conv2d(256, 512, kernel_size=(3, 3), stride=(1, 1), padding=(1, 1))\n",
      "    (18): ReLU(inplace=True)\n",
      "    (19): Conv2d(512, 512, kernel_size=(3, 3), stride=(1, 1), padding=(1, 1))\n",
      "    (20): ReLU(inplace=True)\n",
      "    (21): Conv2d(512, 512, kernel_size=(3, 3), stride=(1, 1), padding=(1, 1))\n",
      "    (22): ReLU(inplace=True)\n",
      "    (23): MaxPool2d(kernel_size=2, stride=2, padding=0, dilation=1, ceil_mode=False)\n",
      "    (24): Conv2d(512, 512, kernel_size=(3, 3), stride=(1, 1), padding=(1, 1))\n",
      "    (25): ReLU(inplace=True)\n",
      "    (26): Conv2d(512, 512, kernel_size=(3, 3), stride=(1, 1), padding=(1, 1))\n",
      "    (27): ReLU(inplace=True)\n",
      "    (28): Conv2d(512, 512, kernel_size=(3, 3), stride=(1, 1), padding=(1, 1))\n",
      "    (29): ReLU(inplace=True)\n",
      "    (30): MaxPool2d(kernel_size=2, stride=2, padding=0, dilation=1, ceil_mode=False)\n",
      "  )\n",
      "  (avgpool): AdaptiveAvgPool2d(output_size=(7, 7))\n",
      "  (classifier): Sequential(\n",
      "    (0): Linear(in_features=25088, out_features=4096, bias=True)\n",
      "    (1): ReLU(inplace=True)\n",
      "    (2): Dropout(p=0.5, inplace=False)\n",
      "    (3): Linear(in_features=4096, out_features=4096, bias=True)\n",
      "    (4): ReLU(inplace=True)\n",
      "    (5): Dropout(p=0.5, inplace=False)\n",
      "    (6): Linear(in_features=4096, out_features=1000, bias=True)\n",
      "  )\n",
      ")\n"
     ]
    }
   ],
   "source": [
    "use_pretrained=True\n",
    "net=models.vgg16(pretrained=use_pretrained)\n",
    "net.eval()\n",
    "print(net)"
   ]
  },
  {
   "cell_type": "code",
   "execution_count": 4,
   "id": "811ac180",
   "metadata": {},
   "outputs": [],
   "source": [
    "class BaseTransform():\n",
    "    def __init__(self, resize, mean, std):\n",
    "        self.base_transform = transforms.Compose([ \n",
    "            transforms.Resize(resize),\n",
    "            transforms.CenterCrop(resize),\n",
    "            transforms.ToTensor(),\n",
    "            transforms.Normalize(mean,std)\n",
    "        ])\n",
    "    def __call__(self, img):\n",
    "        return self.base_transform(img)\n",
    "    "
   ]
  },
  {
   "cell_type": "code",
   "execution_count": 5,
   "id": "53d22055",
   "metadata": {},
   "outputs": [
    {
     "data": {
      "image/png": "[encoded data removed]",
      "text/plain": [
       "<Figure size 432x288 with 1 Axes>"
      ]
     },
     "metadata": {
      "needs_background": "light"
     },
     "output_type": "display_data"
    },
    {
     "data": {
      "text/plain": [
       "<matplotlib.image.AxesImage at 0x177ade7b880>"
      ]
     },
     "execution_count": 5,
     "metadata": {},
     "output_type": "execute_result"
    },
    {
     "data": {
      "image/png": "[encoded data removed]",
      "text/plain": [
       "<Figure size 432x288 with 1 Axes>"
      ]
     },
     "metadata": {
      "needs_background": "light"
     },
     "output_type": "display_data"
    }
   ],
   "source": [
    "image_file_path ='322868_1100-800x825.jpg'\n",
    "img = Image.open(image_file_path)\n",
    "plt.imshow(img)\n",
    "plt.show()\n",
    "\n",
    "resize = 224\n",
    "mean = ( 0.485, 0.456, 0.406)\n",
    "std= (0.229, 0.224,0.225)\n",
    "\n",
    "transform =BaseTransform(resize,mean,std) # Tao transform\n",
    "img_transformed =transform(img) # transform anh\n",
    "import numpy as np\n",
    "img_transformed = img_transformed.numpy().transpose(1,2, 0)\n",
    "img_transformed = np.clip(img_transformed,0,1)\n",
    "\n",
    "plt.imshow(img_transformed)"
   ]
  },
  {
   "cell_type": "code",
   "execution_count": 24,
   "id": "6fa6a7d9",
   "metadata": {},
   "outputs": [],
   "source": [
    "class Predictor():\n",
    "    def __init__(self, class_index):\n",
    "        self.class_index = class_index\n",
    "        \n",
    "    def predict_max(self, out):\n",
    "        maxid = np.argmax(out.detach().numpy())\n",
    "        predicted_label_name=self.class_index[str(maxid)]\n",
    "        return predicted_label_name\n",
    "    \n",
    "    "
   ]
  },
  {
   "cell_type": "code",
   "execution_count": 25,
   "id": "bb742b46",
   "metadata": {},
   "outputs": [],
   "source": [
    "import json\n",
    "class_index=json.load(open('imagenet_class_index.json','r'))"
   ]
  },
  {
   "cell_type": "code",
   "execution_count": 26,
   "id": "08769814",
   "metadata": {},
   "outputs": [],
   "source": [
    "predictor=Predictor(class_index)"
   ]
  },
  {
   "cell_type": "code",
   "execution_count": 28,
   "id": "6dd5f82a",
   "metadata": {},
   "outputs": [
    {
     "name": "stdout",
     "output_type": "stream",
     "text": [
      "Result is: ['n02100583', 'vizsla']\n"
     ]
    }
   ],
   "source": [
    "img_file_path = '322868_1100-800x825.jpg'\n",
    "img = Image.open(image_file_path)\n",
    "\n",
    "resize = 224\n",
    "mean = ( 0.485, 0.456, 0.406)\n",
    "std= (0.229, 0.224,0.225)\n",
    "transform = BaseTransform(resize, mean, std)\n",
    "img_transformed = transform(img)\n",
    "img_transformed = img_transformed.unsqueeze_(0)\n",
    "\n",
    "\n",
    "out = net(img_transformed)\n",
    "result =predictor.predict_max(out)\n",
    "print('Result is:', result)"
   ]
  },
  {
   "cell_type": "markdown",
   "id": "9e2eecaa",
   "metadata": {},
   "source": [
    "## Prepare data"
   ]
  },
  {
   "cell_type": "code",
   "execution_count": 32,
   "id": "d1f28eef",
   "metadata": {},
   "outputs": [],
   "source": [
    "import os\n",
    "import zipfile\n",
    "import urllib.request\n",
    "\n",
    "data_dir='./data'"
   ]
  },
  {
   "cell_type": "code",
   "execution_count": 35,
   "id": "75012196",
   "metadata": {},
   "outputs": [],
   "source": [
    "url = 'https://download.pytorch.org/tutorial/hymenoptera_data.zip'\n",
    "save_path = os.path.join(data_dir,'hymenoptera_data.zip')\n",
    "\n",
    "if not os.path.exists(save_path):\n",
    "    urllib.request.urlretrieve(url, save_path)\n",
    "    \n",
    "    # read zipfile\n",
    "    \n",
    "    zip = zipfile.ZipFile(save_path)\n",
    "    zip.extractall(data_dir)\n",
    "    zip.close()\n",
    "    \n",
    "    os.remove(save_path)"
   ]
  },
  {
   "cell_type": "code",
   "execution_count": 36,
   "id": "c6dd31ea",
   "metadata": {},
   "outputs": [
    {
     "name": "stderr",
     "output_type": "stream",
     "text": [
      "'ls' is not recognized as an internal or external command,\n",
      "operable program or batch file.\n"
     ]
    }
   ],
   "source": []
  },
  {
   "cell_type": "code",
   "execution_count": null,
   "id": "ff3638d4",
   "metadata": {},
   "outputs": [],
   "source": []
  }
 ],
 "metadata": {
  "kernelspec": {
   "display_name": "Python 3",
   "language": "python",
   "name": "python3"
  },
  "language_info": {
   "codemirror_mode": {
    "name": "ipython",
    "version": 3
   },
   "file_extension": ".py",
   "mimetype": "text/x-python",
   "name": "python",
   "nbconvert_exporter": "python",
   "pygments_lexer": "ipython3",
   "version": "3.8.8"
  }
 },
 "nbformat": 4,
 "nbformat_minor": 5
}
